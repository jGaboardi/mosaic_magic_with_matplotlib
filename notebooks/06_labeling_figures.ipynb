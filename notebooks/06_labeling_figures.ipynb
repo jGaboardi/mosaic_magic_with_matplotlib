{
 "cells": [
  {
   "cell_type": "markdown",
   "id": "3e57b36e-93aa-4264-b046-fd206dbd3e87",
   "metadata": {},
   "source": [
    "### Resources\n",
    "- https://matplotlib.org/stable/gallery/subplots_axes_and_figures/figure_title.html\n",
    "- https://matplotlib.org/stable/tutorials/text/text_intro.html\n",
    "- https://matplotlib.org/stable/tutorials/intermediate/legend_guide.html\n",
    "- https://matplotlib.org/stable/tutorials/text/annotations.html"
   ]
  },
  {
   "cell_type": "code",
   "execution_count": null,
   "id": "6d24ce68-70df-46dc-94b9-4fea2adadea5",
   "metadata": {},
   "outputs": [],
   "source": []
  }
 ],
 "metadata": {
  "kernelspec": {
   "display_name": "Python 3 (ipykernel)",
   "language": "python",
   "name": "python3"
  },
  "language_info": {
   "codemirror_mode": {
    "name": "ipython",
    "version": 3
   },
   "file_extension": ".py",
   "mimetype": "text/x-python",
   "name": "python",
   "nbconvert_exporter": "python",
   "pygments_lexer": "ipython3",
   "version": "3.11.4"
  }
 },
 "nbformat": 4,
 "nbformat_minor": 5
}
