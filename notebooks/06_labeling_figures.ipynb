{
 "cells": [
  {
   "cell_type": "code",
   "execution_count": null,
   "id": "724375f8-50fd-4fc3-acd8-eb798639dc8f",
   "metadata": {},
   "outputs": [],
   "source": [
    "import numpy as np\n",
    "import matplotlib.pyplot as plt\n",
    "%matplotlib widget"
   ]
  },
  {
   "cell_type": "markdown",
   "id": "0b286ce8-ee8d-4c55-980c-06ce6c2c2668",
   "metadata": {},
   "source": [
    "# Labeling Figures\n",
    "\n",
    "Once you have the basic layout of what goes where, there are still some final touches to make a multi-panel figure easy to interpret.\n",
    "\n",
    "This includes labeling sthe axes without making the figure as a whole too busy to be easily understood"
   ]
  },
  {
   "cell_type": "markdown",
   "id": "825e5689-1dab-400e-b273-0ae71737e85f",
   "metadata": {},
   "source": [
    "\n",
    "## Figure labels: suptitle, supxlabel, supylabel\n",
    "\n",
    "Each axes can have a title (or actually three - one each with *loc* \"left\",\n",
    "\"center\", and \"right\"), but is sometimes desirable to give a whole figure\n",
    "(or `SubFigure`) an overall title, using `Figure.suptitle`.\n",
    "\n",
    "We can also add figure-level x- and y-labels using `Figure.supxlabel` and\n",
    "`Figure.supylabel`.\n"
   ]
  },
  {
   "cell_type": "code",
   "execution_count": null,
   "id": "13552708-877f-4fbf-968a-ec17d67447e2",
   "metadata": {
    "jupyter": {
     "outputs_hidden": false
    }
   },
   "outputs": [],
   "source": [
    "from matplotlib.cbook import get_sample_data\n",
    "\n",
    "x = np.linspace(0.0, 5.0, 501)\n",
    "\n",
    "fig, (ax1, ax2) = plt.subplots(1, 2, layout='constrained', sharey=True)\n",
    "ax1.plot(x, np.cos(6*x) * np.exp(-x))\n",
    "ax1.set_title('damped')\n",
    "ax1.set_xlabel('time (s)')\n",
    "ax1.set_ylabel('amplitude')\n",
    "\n",
    "ax2.plot(x, np.cos(6*x))\n",
    "ax2.set_xlabel('time (s)')\n",
    "ax2.set_title('undamped')\n",
    "\n",
    "fig.suptitle('Different types of oscillations', fontsize=16)"
   ]
  },
  {
   "cell_type": "code",
   "execution_count": null,
   "id": "9ece7979-5317-4e95-a847-bb5ee67f425b",
   "metadata": {
    "jupyter": {
     "outputs_hidden": false
    }
   },
   "outputs": [],
   "source": [
    "fig, axs = plt.subplots(3, 5, figsize=(8, 5), layout='constrained',\n",
    "                        sharex=True, sharey=True)\n",
    "\n",
    "fname = get_sample_data('percent_bachelors_degrees_women_usa.csv',\n",
    "                        asfileobj=False)\n",
    "gender_degree_data = np.genfromtxt(fname, delimiter=',', names=True)\n",
    "\n",
    "majors = ['Health Professions', 'Public Administration', 'Education',\n",
    "          'Psychology', 'Foreign Languages', 'English',\n",
    "          'Art and Performance', 'Biology',\n",
    "          'Agriculture', 'Business',\n",
    "          'Math and Statistics', 'Architecture', 'Physical Sciences',\n",
    "          'Computer Science', 'Engineering']\n",
    "\n",
    "for nn, ax in enumerate(axs.flat):\n",
    "    ax.set_xlim(1969.5, 2011.1)\n",
    "    column = majors[nn]\n",
    "    column_rec_name = column.replace('\\n', '_').replace(' ', '_')\n",
    "\n",
    "    line, = ax.plot('Year', column_rec_name, data=gender_degree_data,\n",
    "                    lw=2.5)\n",
    "    ax.set_title(column, fontsize='small', loc='left')\n",
    "    ax.set_ylim([0, 100])\n",
    "    ax.grid()\n",
    "fig.supxlabel('Year')\n",
    "fig.supylabel('Percent Degrees Awarded To Women')\n",
    "\n",
    "plt.show()"
   ]
  },
  {
   "cell_type": "markdown",
   "id": "76d23c07-e20e-4312-87a5-b5f1310face1",
   "metadata": {},
   "source": [
    "## Annotating Data"
   ]
  },
  {
   "cell_type": "markdown",
   "id": "9e6f904a-f655-4a1a-9861-328ee11ac2cb",
   "metadata": {},
   "source": [
    "Annotations are graphical elements, often pieces of text, that explain, add\n",
    "context to, or otherwise highlight some portion of the visualized data.\n",
    "`Axes.annotate` supports a number of coordinate systems for flexibly\n",
    "positioning data and annotations relative to each other and a variety of\n",
    "options of for styling the text. Axes.annotate also provides an optional arrow\n",
    "from the text to the data and this arrow can be styled in various ways.\n",
    "`Axes.text` can also be used for simple text annotation, but does not\n",
    "provide as much flexibility in positioning and styling as `Axes.annotate`."
   ]
  },
  {
   "cell_type": "markdown",
   "id": "f6ad2167-b7a4-42ac-ad9e-73025c1a527e",
   "metadata": {},
   "source": [
    "\n",
    "### Basic annotation\n",
    "\n",
    "In an annotation, there are two points to consider: the location of the data\n",
    "being annotated *xy* and the location of the annotation text *xytext*.  Both\n",
    "of these arguments are ``(x, y)`` tuples:\n",
    "\n"
   ]
  },
  {
   "cell_type": "code",
   "execution_count": null,
   "id": "43aeb915-ab3c-4083-aee8-093e29f6f799",
   "metadata": {
    "jupyter": {
     "outputs_hidden": false
    }
   },
   "outputs": [],
   "source": [
    "fig, ax = plt.subplots(figsize=(3, 3))\n",
    "\n",
    "t = np.arange(0.0, 5.0, 0.01)\n",
    "s = np.cos(2*np.pi*t)\n",
    "line, = ax.plot(t, s, lw=2)\n",
    "\n",
    "ax.annotate('local max', xy=(2, 1), xytext=(3, 1.5),\n",
    "            arrowprops=dict(facecolor='black', shrink=0.05))\n",
    "ax.set_ylim(-2, 2)"
   ]
  },
  {
   "cell_type": "markdown",
   "id": "b05ea4a3-d690-4081-b2ff-9312a72e310c",
   "metadata": {},
   "source": [
    "In this example, both the *xy* (arrow tip) and *xytext* locations\n",
    "(text location) are in data coordinates.  There are a variety of other\n",
    "coordinate systems one can choose -- you can specify the coordinate\n",
    "system of *xy* and *xytext* with one of the following strings for\n",
    "*xycoords* and *textcoords* (default is 'data')\n",
    "\n",
    "argument          |  coordinate system\n",
    "------------------|-------------------------------------------------------\n",
    "'figure points'   |  points from the lower left corner of the figure\n",
    "'figure pixels'   |  pixels from the lower left corner of the figure\n",
    "'figure fraction' |  (0, 0) is lower left of figure and (1, 1) is upper right\n",
    "'axes points'     |  points from lower left corner of axes\n",
    "'axes pixels'     |  pixels from lower left corner of axes\n",
    "'axes fraction'   |  (0, 0) is lower left of axes and (1, 1) is upper right\n",
    "'data'            |  use the axes data coordinate system\n",
    "\n",
    "The following strings are also valid arguments for *textcoords*\n",
    "\n",
    "argument           | coordinate system\n",
    "-------------------|-----------------------------------------\n",
    "'offset points'    | offset (in points) from the xy value\n",
    "'offset pixels'    | offset (in pixels) from the xy value\n",
    "\n",
    "For physical coordinate systems (points or pixels) the origin is the\n",
    "bottom-left of the figure or axes. Points are\n",
    "[typographic points](https://en.wikipedia.org/wiki/Point_(typography))\n",
    "meaning that they are a physical unit measuring 1/72 of an inch. Points and\n",
    "pixels are discussed in further detail in `transforms-fig-scale-dpi`.\n",
    "\n",
    "\n",
    "### Annotating data\n",
    "\n",
    "This example places the text coordinates in fractional axes coordinates:\n",
    "\n"
   ]
  },
  {
   "cell_type": "code",
   "execution_count": null,
   "id": "f4a0f090-1b2e-46a3-a19f-010522da3974",
   "metadata": {
    "jupyter": {
     "outputs_hidden": false
    }
   },
   "outputs": [],
   "source": [
    "fig, ax = plt.subplots(figsize=(3, 3))\n",
    "\n",
    "t = np.arange(0.0, 5.0, 0.01)\n",
    "s = np.cos(2*np.pi*t)\n",
    "line, = ax.plot(t, s, lw=2)\n",
    "\n",
    "ax.annotate('local max', xy=(2, 1), xycoords='data',\n",
    "            xytext=(0.01, .99), textcoords='axes fraction',\n",
    "            va='top', ha='left',\n",
    "            arrowprops=dict(facecolor='black', shrink=0.05))\n",
    "ax.set_ylim(-2, 2)"
   ]
  },
  {
   "cell_type": "markdown",
   "id": "a4d99714-7a62-4abb-98cd-6739cdcde60d",
   "metadata": {},
   "source": [
    "\n",
    "### Annotating with arrows\n",
    "\n",
    "You can enable drawing of an arrow from the text to the annotated point\n",
    "by giving a dictionary of arrow properties in the optional keyword\n",
    "argument *arrowprops*.\n",
    "\n",
    "\n",
    "*arrowprops* key   |  description\n",
    "-------------------|----------------------------------------------\n",
    "width              |  the width of the arrow in points\n",
    "frac               |  the fraction of the arrow length occupied by the head\n",
    "headwidth          |  the width of the base of the arrow head in points\n",
    "shrink             |  move the tip and base some percent away from the annotated point and text\n",
    "\\*\\*kwargs         |  any key for :class:`matplotlib.patches.Polygon`, e.g., ``facecolor``\n",
    "\n",
    "In the example below, the *xy* point is in the data coordinate system\n",
    "since *xycoords* defaults to 'data'. For a polar axes, this is in\n",
    "(theta, radius) space. The text in this example is placed in the\n",
    "fractional figure coordinate system. `matplotlib.text.Text`\n",
    "keyword arguments like *horizontalalignment*, *verticalalignment* and\n",
    "*fontsize* are passed from `annotate` to the\n",
    "``Text`` instance.\n",
    "\n"
   ]
  },
  {
   "cell_type": "code",
   "execution_count": null,
   "id": "3e21e73c-19cc-4a8e-ad7a-b5aab794417b",
   "metadata": {
    "jupyter": {
     "outputs_hidden": false
    }
   },
   "outputs": [],
   "source": [
    "fig = plt.figure()\n",
    "ax = fig.add_subplot(projection='polar')\n",
    "r = np.arange(0, 1, 0.001)\n",
    "theta = 2 * 2*np.pi * r\n",
    "line, = ax.plot(theta, r, color='#ee8d18', lw=3)\n",
    "\n",
    "ind = 800\n",
    "thisr, thistheta = r[ind], theta[ind]\n",
    "ax.plot([thistheta], [thisr], 'o')\n",
    "ax.annotate('a polar annotation',\n",
    "            xy=(thistheta, thisr),  # theta, radius\n",
    "            xytext=(0.05, 0.05),    # fraction, fraction\n",
    "            textcoords='figure fraction',\n",
    "            arrowprops=dict(facecolor='black', shrink=0.05),\n",
    "            horizontalalignment='left',\n",
    "            verticalalignment='bottom')"
   ]
  },
  {
   "cell_type": "markdown",
   "id": "0b7a4174-748c-4ac6-aaaa-39ab06441e87",
   "metadata": {},
   "source": [
    "For more on plotting with arrows, see `annotation_with_custom_arrow`\n",
    "\n",
    "\n",
    "### Placing text annotations relative to data\n",
    "Annotations can be positioned at a relative offset to the *xy* input to\n",
    "annotation by setting the *textcoords* keyword argument to ``'offset points'``\n",
    "or ``'offset pixels'``.\n",
    "\n"
   ]
  },
  {
   "cell_type": "code",
   "execution_count": null,
   "id": "35f26e2f-75cf-4e04-9161-c5cd625016fa",
   "metadata": {
    "jupyter": {
     "outputs_hidden": false
    }
   },
   "outputs": [],
   "source": [
    "fig, ax = plt.subplots(figsize=(3, 3))\n",
    "x = [1, 3, 5, 7, 9]\n",
    "y = [2, 4, 6, 8, 10]\n",
    "annotations = [\"A\", \"B\", \"C\", \"D\", \"E\"]\n",
    "ax.scatter(x, y, s=20)\n",
    "\n",
    "for xi, yi, text in zip(x, y, annotations):\n",
    "    ax.annotate(text,\n",
    "                xy=(xi, yi), xycoords='data',\n",
    "                xytext=(1.5, 1.5), textcoords='offset points')"
   ]
  },
  {
   "cell_type": "markdown",
   "id": "2cbabd4d-6848-404c-b83b-542cd7248790",
   "metadata": {},
   "source": [
    "## Corner Text"
   ]
  },
  {
   "cell_type": "markdown",
   "id": "15c0a03a-25eb-44a5-b5a3-d8cd18fbcc50",
   "metadata": {},
   "source": [
    "There are classes of artists that can be placed at an anchored\n",
    "location in the Axes.  A common example is the legend.  This type\n",
    "of artist can be created by using the `OffsetBox` class. A few\n",
    "predefined classes are available in `matplotlib.offsetbox`."
   ]
  },
  {
   "cell_type": "code",
   "execution_count": null,
   "id": "2965115a-ce96-446d-8712-4bc6c29521c9",
   "metadata": {
    "jupyter": {
     "outputs_hidden": false
    }
   },
   "outputs": [],
   "source": [
    "from matplotlib.offsetbox import AnchoredText\n",
    "\n",
    "fig, ax = plt.subplots(figsize=(3, 3))\n",
    "at = AnchoredText(\"Figure 1a\",\n",
    "                  prop=dict(size=15), frameon=True, loc='upper left')\n",
    "at.patch.set_boxstyle(\"round,pad=0.,rounding_size=0.2\")\n",
    "ax.add_artist(at)"
   ]
  },
  {
   "cell_type": "markdown",
   "id": "d897026e-c6ea-4f4d-8647-4483ed572b64",
   "metadata": {},
   "source": [
    "The *loc* keyword has same meaning as in the legend command."
   ]
  },
  {
   "cell_type": "markdown",
   "id": "9406873f-5c0c-4706-ae44-b66b4b914030",
   "metadata": {},
   "source": [
    "#### Exercise: Adding corner text to multiple axes\n",
    "\n",
    "Modify the code from the Figure Labels section above to:\n",
    "\n",
    "- Use `plt.subplot_mosaic` instead of `plt.subplots` (Hint: this will affect how you do the for loop)\n",
    "- Use corner text for labels rather than `ax.suptitle`\n",
    "\n",
    "The code is repeated here for your convenience."
   ]
  },
  {
   "cell_type": "code",
   "execution_count": null,
   "id": "6a0ecc67-9426-4e56-b867-6bd7b7839edc",
   "metadata": {
    "jupyter": {
     "outputs_hidden": false
    }
   },
   "outputs": [],
   "source": [
    "fig, axs = plt.subplots(3, 5, figsize=(8, 5), layout='constrained',\n",
    "                        sharex=True, sharey=True)\n",
    "\n",
    "fname = get_sample_data('percent_bachelors_degrees_women_usa.csv',\n",
    "                        asfileobj=False)\n",
    "gender_degree_data = np.genfromtxt(fname, delimiter=',', names=True)\n",
    "\n",
    "majors = ['Health Professions', 'Public Administration', 'Education',\n",
    "          'Psychology', 'Foreign Languages', 'English',\n",
    "          'Art and Performance', 'Biology',\n",
    "          'Agriculture', 'Business',\n",
    "          'Math and Statistics', 'Architecture', 'Physical Sciences',\n",
    "          'Computer Science', 'Engineering']\n",
    "\n",
    "for nn, ax in enumerate(axs.flat):\n",
    "    ax.set_xlim(1969.5, 2011.1)\n",
    "    column = majors[nn]\n",
    "    column_rec_name = column.replace('\\n', '_').replace(' ', '_')\n",
    "\n",
    "    line, = ax.plot('Year', column_rec_name, data=gender_degree_data,\n",
    "                    lw=2.5)\n",
    "    ax.set_title(column, fontsize='small', loc='left')\n",
    "    ax.set_ylim([0, 100])\n",
    "    ax.grid()\n",
    "fig.supxlabel('Year')\n",
    "fig.supylabel('Percent Degrees Awarded To Women')\n",
    "\n",
    "plt.show()"
   ]
  },
  {
   "cell_type": "markdown",
   "id": "853b5799-fedf-41ed-bed8-3e0674ad56a6",
   "metadata": {},
   "source": [
    "## Legends"
   ]
  },
  {
   "cell_type": "markdown",
   "id": "eb6cdb95-f493-4b37-aea8-d23991ac98c5",
   "metadata": {},
   "source": [
    "This guide makes use of some common terms, which are documented here for\n",
    "clarity:\n",
    "\n",
    "\n",
    "    legend entry\n",
    "        A legend is made up of one or more legend entries. An entry is made up\n",
    "        of exactly one key and one label.\n",
    "\n",
    "    legend key\n",
    "        The colored/patterned marker to the left of each legend label.\n",
    "\n",
    "    legend label\n",
    "        The text which describes the handle represented by the key.\n",
    "\n",
    "    legend handle\n",
    "        The original object which is used to generate an appropriate entry in\n",
    "        the legend."
   ]
  },
  {
   "cell_type": "markdown",
   "id": "dac61e1e-88cd-4482-89f9-2d6f64f71643",
   "metadata": {},
   "source": [
    "### Controlling the legend entries\n",
    "\n",
    "Calling `legend` with no arguments automatically fetches the legend\n",
    "handles and their associated labels. This functionality is equivalent to:\n",
    "\n",
    "    handles, labels = ax.get_legend_handles_labels()\n",
    "    ax.legend(handles, labels)\n",
    "\n",
    "The `Axes.get_legend_handles_labels` function returns\n",
    "a list of handles/artists which exist on the Axes which can be used to\n",
    "generate entries for the resulting legend - it is worth noting however that\n",
    "not all artists can be added to a legend, at which point a \"proxy\" will have\n",
    "to be created (see the next section for further details).\n",
    "\n",
    "<div class=\"alert alert-info\"><h4>Note</h4><p>Artists with an empty string as label or with a label starting with an\n",
    "    underscore, \"_\", will be ignored.</p></div>\n",
    "\n",
    "For full control of what is being added to the legend, it is common to pass\n",
    "the appropriate handles directly to `legend`:\n",
    "\n",
    "```python\n",
    "    fig, ax = plt.subplots()\n",
    "    line_up, = ax.plot([1, 2, 3], label='Line 2')\n",
    "    line_down, = ax.plot([3, 2, 1], label='Line 1')\n",
    "    ax.legend(handles=[line_up, line_down])\n",
    "```\n",
    "\n",
    "In some cases, it is not possible to set the label of the handle, so it is\n",
    "possible to pass through the list of labels to `legend`:\n",
    "\n",
    "```python\n",
    "    fig, ax = plt.subplots()\n",
    "    line_up, = ax.plot([1, 2, 3], label='Line 2')\n",
    "    line_down, = ax.plot([3, 2, 1], label='Line 1')\n",
    "    ax.legend([line_up, line_down], ['Line Up', 'Line Down'])\n",
    "```"
   ]
  },
  {
   "cell_type": "markdown",
   "id": "f60f8efd-d669-4e70-84d5-3192098c179f",
   "metadata": {},
   "source": [
    "### Creating artists specifically for adding to the legend (aka. Proxy artists)\n",
    "\n",
    "Not all handles can be turned into legend entries automatically,\n",
    "so it is often necessary to create an artist which *can*. Legend handles\n",
    "don't have to exist on the Figure or Axes in order to be used.\n",
    "\n",
    "Suppose we wanted to create a legend which has an entry for some data which\n",
    "is represented by a red color:"
   ]
  },
  {
   "cell_type": "code",
   "execution_count": null,
   "id": "fc8bbd30-e781-488d-84eb-546ec175342b",
   "metadata": {
    "jupyter": {
     "outputs_hidden": false
    }
   },
   "outputs": [],
   "source": [
    "import matplotlib.patches as mpatches\n",
    "import matplotlib.pyplot as plt\n",
    "\n",
    "fig, ax = plt.subplots()\n",
    "red_patch = mpatches.Patch(color='red', label='The red data')\n",
    "ax.legend(handles=[red_patch])\n",
    "\n",
    "plt.show()"
   ]
  },
  {
   "cell_type": "markdown",
   "id": "20b892b5-7398-42cb-bc71-1181098b1458",
   "metadata": {},
   "source": [
    "There are many supported legend handles. Instead of creating a patch of color\n",
    "we could have created a line with a marker:\n",
    "\n"
   ]
  },
  {
   "cell_type": "code",
   "execution_count": null,
   "id": "475c9a1e-4385-46a0-967b-8a5d2a338964",
   "metadata": {
    "jupyter": {
     "outputs_hidden": false
    }
   },
   "outputs": [],
   "source": [
    "import matplotlib.lines as mlines\n",
    "\n",
    "fig, ax = plt.subplots()\n",
    "blue_line = mlines.Line2D([], [], color='blue', marker='*',\n",
    "                          markersize=15, label='Blue stars')\n",
    "ax.legend(handles=[blue_line])\n",
    "\n",
    "plt.show()"
   ]
  },
  {
   "cell_type": "markdown",
   "id": "d15c5ce1-cacc-4403-8ee3-8e6ad99b7768",
   "metadata": {},
   "source": [
    "### Legend location\n",
    "\n",
    "The location of the legend can be specified by the keyword argument\n",
    "*loc*. Please see the documentation at `legend` for more details.\n",
    "\n",
    "The `bbox_to_anchor` keyword gives a great degree of control for manual\n",
    "legend placement. For example, if you want your axes legend located at the\n",
    "figure's top right-hand corner instead of the axes' corner, simply specify\n",
    "the corner's location and the coordinate system of that location:\n",
    "\n",
    "```python\n",
    "    ax.legend(bbox_to_anchor=(1, 1),\n",
    "              bbox_transform=fig.transFigure)\n",
    "```\n",
    "\n",
    "More examples of custom legend placement:\n",
    "\n"
   ]
  },
  {
   "cell_type": "code",
   "execution_count": null,
   "id": "472ffc83-909c-4d23-8f2d-f82414b7f1d9",
   "metadata": {
    "jupyter": {
     "outputs_hidden": false
    }
   },
   "outputs": [],
   "source": [
    "fig, ax_dict = plt.subplot_mosaic([['top', 'top'], ['bottom', 'BLANK']],\n",
    "                                  empty_sentinel=\"BLANK\")\n",
    "ax_dict['top'].plot([1, 2, 3], label=\"test1\")\n",
    "ax_dict['top'].plot([3, 2, 1], label=\"test2\")\n",
    "# Place a legend above this subplot, expanding itself to\n",
    "# fully use the given bounding box.\n",
    "ax_dict['top'].legend(bbox_to_anchor=(0., 1.02, 1., .102), loc='lower left',\n",
    "                      ncols=2, mode=\"expand\", borderaxespad=0.)\n",
    "\n",
    "ax_dict['bottom'].plot([1, 2, 3], label=\"test1\")\n",
    "ax_dict['bottom'].plot([3, 2, 1], label=\"test2\")\n",
    "# Place a legend to the right of this smaller subplot.\n",
    "ax_dict['bottom'].legend(bbox_to_anchor=(1.05, 1),\n",
    "                         loc='upper left', borderaxespad=0.)"
   ]
  },
  {
   "cell_type": "markdown",
   "id": "4f812b42-0582-4bd7-afdd-420f2fe27341",
   "metadata": {},
   "source": [
    "#### Figure legends\n",
    "\n",
    "Sometimes it makes more sense to place a legend relative to the (sub)figure\n",
    "rather than individual Axes.  By using `constrained_layout` and\n",
    "specifying \"outside\" at the beginning of the *loc* keyword argument,\n",
    "the legend is drawn outside the Axes on the (sub)figure.\n",
    "\n"
   ]
  },
  {
   "cell_type": "code",
   "execution_count": null,
   "id": "c03ec5e5-f73f-4611-90d8-9b8dcbab7e38",
   "metadata": {
    "jupyter": {
     "outputs_hidden": false
    }
   },
   "outputs": [],
   "source": [
    "fig, axs = plt.subplot_mosaic([['left', 'right']], layout='constrained')\n",
    "\n",
    "axs['left'].plot([1, 2, 3], label=\"test1\")\n",
    "axs['left'].plot([3, 2, 1], label=\"test2\")\n",
    "\n",
    "axs['right'].plot([1, 2, 3], 'C2', label=\"test3\")\n",
    "axs['right'].plot([3, 2, 1], 'C3', label=\"test4\")\n",
    "# Place a legend to the right of this smaller subplot.\n",
    "fig.legend(loc='outside upper right')"
   ]
  },
  {
   "cell_type": "markdown",
   "id": "424bc2fc-be39-48e9-b9d6-bc18396cf972",
   "metadata": {},
   "source": [
    "This accepts a slightly different grammar than the normal *loc* keyword,\n",
    "where \"outside right upper\" is different from \"outside upper right\".\n",
    "\n",
    "\n"
   ]
  },
  {
   "cell_type": "code",
   "execution_count": null,
   "id": "fc72789d-424f-4f22-95e6-872e9cc5f2b1",
   "metadata": {
    "jupyter": {
     "outputs_hidden": false
    }
   },
   "outputs": [],
   "source": [
    "ucl = ['upper', 'center', 'lower']\n",
    "lcr = ['left', 'center', 'right']\n",
    "fig, ax = plt.subplots(figsize=(6, 4), layout='constrained', facecolor='0.7')\n",
    "\n",
    "ax.plot([1, 2], [1, 2], label='TEST')\n",
    "# Place a legend to the right of this smaller subplot.\n",
    "for loc in [\n",
    "        'outside upper left',\n",
    "        'outside upper center',\n",
    "        'outside upper right',\n",
    "        'outside lower left',\n",
    "        'outside lower center',\n",
    "        'outside lower right']:\n",
    "    fig.legend(loc=loc, title=loc)\n",
    "\n",
    "fig, ax = plt.subplots(figsize=(6, 4), layout='constrained', facecolor='0.7')\n",
    "ax.plot([1, 2], [1, 2], label='test')\n",
    "\n",
    "for loc in [\n",
    "        'outside left upper',\n",
    "        'outside right upper',\n",
    "        'outside left lower',\n",
    "        'outside right lower']:\n",
    "    fig.legend(loc=loc, title=loc)"
   ]
  },
  {
   "cell_type": "markdown",
   "id": "10412d12-49c5-4dfe-9334-1a03a1a37d00",
   "metadata": {},
   "source": [
    "## Including non-graph content in a figure\n",
    "\n",
    "One thing that often happens is that figures are not _entirely_ made up of plots made in matplotlib. you can still use matplotlib to lay out this figure and include content from other sources (e.g. a photograph/microscope image or a drawing from another program. Adding this in the axes grid can help to keep your other axes clear and avoid having to use another program to do final layout of your figure.\n",
    "\n",
    "We actually did this once already in the exercise making the logo for the tutorial, but that was not the focus then.\n",
    "\n",
    "in this example we are adding two images, one a standard JPEG (but it works with many other image formats) and one that is a black and white image stored as a zipped archive. A colormap has been added to the black and white MRI image.\n",
    "\n",
    "It is often useful when adding images to figures to clear the axes that contains the image as the spines and labels are generally not desired."
   ]
  },
  {
   "cell_type": "code",
   "execution_count": null,
   "id": "f1041ce8-1bde-46de-bce8-4570c1160b45",
   "metadata": {},
   "outputs": [],
   "source": [
    "from matplotlib import cbook\n",
    "# A sample image\n",
    "with cbook.get_sample_data('grace_hopper.jpg') as image_file:\n",
    "    image = plt.imread(image_file)\n",
    "\n",
    "# And another image, using 256x256 16-bit integers.\n",
    "w, h = 256, 256\n",
    "with cbook.get_sample_data('s1045.ima.gz') as datafile:\n",
    "    s = datafile.read()\n",
    "A = np.frombuffer(s, np.uint16).astype(float).reshape((w, h))\n",
    "extent = (0, 25, 0, 25)\n",
    "\n",
    "fig, ax = plt.subplot_mosaic([\n",
    "    ['hopper', 'mri']\n",
    "], figsize=(7, 3.5))\n",
    "\n",
    "ax['hopper'].imshow(image)\n",
    "ax['hopper'].axis('off')  # clear x-axis and y-axis\n",
    "\n",
    "im = ax['mri'].imshow(A, cmap=plt.cm.hot, origin='upper', extent=extent)\n",
    "\n",
    "ax['mri'].set_title('MRI')\n",
    "\n",
    "plt.show()"
   ]
  },
  {
   "cell_type": "markdown",
   "id": "3e57b36e-93aa-4264-b046-fd206dbd3e87",
   "metadata": {},
   "source": [
    "### Resources\n",
    "\n",
    "- https://matplotlib.org/stable/tutorials/text/text_intro.html\n",
    "- https://matplotlib.org/stable/api/_as_gen/matplotlib.axes.Axes.label_outer.html\n",
    "- https://matplotlib.org/stable/tutorials/text/annotations.html\n",
    "- https://matplotlib.org/stable/tutorials/intermediate/legend_guide.html\n",
    "- https://matplotlib.org/stable/gallery/subplots_axes_and_figures/figure_title.html\n"
   ]
  }
 ],
 "metadata": {
  "kernelspec": {
   "display_name": "Python 3 (ipykernel)",
   "language": "python",
   "name": "python3"
  },
  "language_info": {
   "codemirror_mode": {
    "name": "ipython",
    "version": 3
   },
   "file_extension": ".py",
   "mimetype": "text/x-python",
   "name": "python",
   "nbconvert_exporter": "python",
   "pygments_lexer": "ipython3",
   "version": "3.11.0"
  }
 },
 "nbformat": 4,
 "nbformat_minor": 5
}
