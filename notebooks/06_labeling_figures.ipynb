{
 "cells": [
  {
   "cell_type": "markdown",
   "id": "0b286ce8-ee8d-4c55-980c-06ce6c2c2668",
   "metadata": {},
   "source": [
    "# Labeling Figures\n",
    "\n",
    "Once you have the basic layout of what goes where, there are still some final touches to make a multi-panel figure easy to interpret.\n",
    "\n",
    "This includes labeling sthe axes without making the figure as a whole too busy to be easily understood"
   ]
  },
  {
   "cell_type": "markdown",
   "id": "0ea462a5-68bb-4aff-ad1d-2352a5f518c5",
   "metadata": {},
   "source": [
    "## Label outer"
   ]
  },
  {
   "cell_type": "markdown",
   "id": "e10208dd-2da9-4af4-b172-fd28e78955e9",
   "metadata": {},
   "source": [
    "## Figure Labels"
   ]
  },
  {
   "cell_type": "markdown",
   "id": "76d23c07-e20e-4312-87a5-b5f1310face1",
   "metadata": {},
   "source": [
    "## Annotating Data"
   ]
  },
  {
   "cell_type": "markdown",
   "id": "2cbabd4d-6848-404c-b83b-542cd7248790",
   "metadata": {},
   "source": [
    "## Corner Text"
   ]
  },
  {
   "cell_type": "markdown",
   "id": "15c0a03a-25eb-44a5-b5a3-d8cd18fbcc50",
   "metadata": {},
   "source": [
    "There are classes of artists that can be placed at an anchored\n",
    "location in the Axes.  A common example is the legend.  This type\n",
    "of artist can be created by using the `OffsetBox` class. A few\n",
    "predefined classes are available in `matplotlib.offsetbox`."
   ]
  },
  {
   "cell_type": "code",
   "execution_count": null,
   "id": "2965115a-ce96-446d-8712-4bc6c29521c9",
   "metadata": {
    "jupyter": {
     "outputs_hidden": false
    }
   },
   "outputs": [],
   "source": [
    "from matplotlib.offsetbox import AnchoredText\n",
    "\n",
    "fig, ax = plt.subplots(figsize=(3, 3))\n",
    "at = AnchoredText(\"Figure 1a\",\n",
    "                  prop=dict(size=15), frameon=True, loc='upper left')\n",
    "at.patch.set_boxstyle(\"round,pad=0.,rounding_size=0.2\")\n",
    "ax.add_artist(at)"
   ]
  },
  {
   "cell_type": "markdown",
   "id": "d897026e-c6ea-4f4d-8647-4483ed572b64",
   "metadata": {},
   "source": [
    "The *loc* keyword has same meaning as in the legend command."
   ]
  },
  {
   "cell_type": "markdown",
   "id": "9406873f-5c0c-4706-ae44-b66b4b914030",
   "metadata": {},
   "source": [
    "#### Exercise: Adding corner text to multiple axes\n",
    "\n",
    "Modify the code from the Figure Labels section above to:\n",
    "\n",
    "- Use `plt.subplot_mosaic` instead of `plt.subplots`\n",
    "- Use corner text for labels rather than `ax.suptitle`\n",
    "\n",
    "The code is repeated here for your convenience."
   ]
  },
  {
   "cell_type": "markdown",
   "id": "853b5799-fedf-41ed-bed8-3e0674ad56a6",
   "metadata": {},
   "source": [
    "## Legends"
   ]
  },
  {
   "cell_type": "markdown",
   "id": "eb6cdb95-f493-4b37-aea8-d23991ac98c5",
   "metadata": {},
   "source": [
    "This guide makes use of some common terms, which are documented here for\n",
    "clarity:\n",
    "\n",
    "\n",
    "    legend entry\n",
    "        A legend is made up of one or more legend entries. An entry is made up\n",
    "        of exactly one key and one label.\n",
    "\n",
    "    legend key\n",
    "        The colored/patterned marker to the left of each legend label.\n",
    "\n",
    "    legend label\n",
    "        The text which describes the handle represented by the key.\n",
    "\n",
    "    legend handle\n",
    "        The original object which is used to generate an appropriate entry in\n",
    "        the legend."
   ]
  },
  {
   "cell_type": "markdown",
   "id": "dac61e1e-88cd-4482-89f9-2d6f64f71643",
   "metadata": {},
   "source": [
    "### Controlling the legend entries\n",
    "\n",
    "Calling `legend` with no arguments automatically fetches the legend\n",
    "handles and their associated labels. This functionality is equivalent to:\n",
    "\n",
    "    handles, labels = ax.get_legend_handles_labels()\n",
    "    ax.legend(handles, labels)\n",
    "\n",
    "The `Axes.get_legend_handles_labels` function returns\n",
    "a list of handles/artists which exist on the Axes which can be used to\n",
    "generate entries for the resulting legend - it is worth noting however that\n",
    "not all artists can be added to a legend, at which point a \"proxy\" will have\n",
    "to be created (see the next section for further details).\n",
    "\n",
    "<div class=\"alert alert-info\"><h4>Note</h4><p>Artists with an empty string as label or with a label starting with an\n",
    "    underscore, \"_\", will be ignored.</p></div>\n",
    "\n",
    "For full control of what is being added to the legend, it is common to pass\n",
    "the appropriate handles directly to `legend`:\n",
    "\n",
    "```python\n",
    "    fig, ax = plt.subplots()\n",
    "    line_up, = ax.plot([1, 2, 3], label='Line 2')\n",
    "    line_down, = ax.plot([3, 2, 1], label='Line 1')\n",
    "    ax.legend(handles=[line_up, line_down])\n",
    "```\n",
    "\n",
    "In some cases, it is not possible to set the label of the handle, so it is\n",
    "possible to pass through the list of labels to `legend`:\n",
    "\n",
    "```python\n",
    "    fig, ax = plt.subplots()\n",
    "    line_up, = ax.plot([1, 2, 3], label='Line 2')\n",
    "    line_down, = ax.plot([3, 2, 1], label='Line 1')\n",
    "    ax.legend([line_up, line_down], ['Line Up', 'Line Down'])\n",
    "```"
   ]
  },
  {
   "cell_type": "markdown",
   "id": "f60f8efd-d669-4e70-84d5-3192098c179f",
   "metadata": {},
   "source": [
    "### Creating artists specifically for adding to the legend (aka. Proxy artists)\n",
    "\n",
    "Not all handles can be turned into legend entries automatically,\n",
    "so it is often necessary to create an artist which *can*. Legend handles\n",
    "don't have to exist on the Figure or Axes in order to be used.\n",
    "\n",
    "Suppose we wanted to create a legend which has an entry for some data which\n",
    "is represented by a red color:"
   ]
  },
  {
   "cell_type": "code",
   "execution_count": null,
   "id": "fc8bbd30-e781-488d-84eb-546ec175342b",
   "metadata": {
    "jupyter": {
     "outputs_hidden": false
    }
   },
   "outputs": [],
   "source": [
    "import matplotlib.patches as mpatches\n",
    "import matplotlib.pyplot as plt\n",
    "\n",
    "fig, ax = plt.subplots()\n",
    "red_patch = mpatches.Patch(color='red', label='The red data')\n",
    "ax.legend(handles=[red_patch])\n",
    "\n",
    "plt.show()"
   ]
  },
  {
   "cell_type": "markdown",
   "id": "20b892b5-7398-42cb-bc71-1181098b1458",
   "metadata": {},
   "source": [
    "There are many supported legend handles. Instead of creating a patch of color\n",
    "we could have created a line with a marker:\n",
    "\n"
   ]
  },
  {
   "cell_type": "code",
   "execution_count": null,
   "id": "475c9a1e-4385-46a0-967b-8a5d2a338964",
   "metadata": {
    "jupyter": {
     "outputs_hidden": false
    }
   },
   "outputs": [],
   "source": [
    "import matplotlib.lines as mlines\n",
    "\n",
    "fig, ax = plt.subplots()\n",
    "blue_line = mlines.Line2D([], [], color='blue', marker='*',\n",
    "                          markersize=15, label='Blue stars')\n",
    "ax.legend(handles=[blue_line])\n",
    "\n",
    "plt.show()"
   ]
  },
  {
   "cell_type": "markdown",
   "id": "d15c5ce1-cacc-4403-8ee3-8e6ad99b7768",
   "metadata": {},
   "source": [
    "### Legend location\n",
    "\n",
    "The location of the legend can be specified by the keyword argument\n",
    "*loc*. Please see the documentation at `legend` for more details.\n",
    "\n",
    "The `bbox_to_anchor` keyword gives a great degree of control for manual\n",
    "legend placement. For example, if you want your axes legend located at the\n",
    "figure's top right-hand corner instead of the axes' corner, simply specify\n",
    "the corner's location and the coordinate system of that location:\n",
    "\n",
    "```python\n",
    "    ax.legend(bbox_to_anchor=(1, 1),\n",
    "              bbox_transform=fig.transFigure)\n",
    "```\n",
    "\n",
    "More examples of custom legend placement:\n",
    "\n"
   ]
  },
  {
   "cell_type": "code",
   "execution_count": null,
   "id": "472ffc83-909c-4d23-8f2d-f82414b7f1d9",
   "metadata": {
    "jupyter": {
     "outputs_hidden": false
    }
   },
   "outputs": [],
   "source": [
    "fig, ax_dict = plt.subplot_mosaic([['top', 'top'], ['bottom', 'BLANK']],\n",
    "                                  empty_sentinel=\"BLANK\")\n",
    "ax_dict['top'].plot([1, 2, 3], label=\"test1\")\n",
    "ax_dict['top'].plot([3, 2, 1], label=\"test2\")\n",
    "# Place a legend above this subplot, expanding itself to\n",
    "# fully use the given bounding box.\n",
    "ax_dict['top'].legend(bbox_to_anchor=(0., 1.02, 1., .102), loc='lower left',\n",
    "                      ncols=2, mode=\"expand\", borderaxespad=0.)\n",
    "\n",
    "ax_dict['bottom'].plot([1, 2, 3], label=\"test1\")\n",
    "ax_dict['bottom'].plot([3, 2, 1], label=\"test2\")\n",
    "# Place a legend to the right of this smaller subplot.\n",
    "ax_dict['bottom'].legend(bbox_to_anchor=(1.05, 1),\n",
    "                         loc='upper left', borderaxespad=0.)"
   ]
  },
  {
   "cell_type": "markdown",
   "id": "4f812b42-0582-4bd7-afdd-420f2fe27341",
   "metadata": {},
   "source": [
    "#### Figure legends\n",
    "\n",
    "Sometimes it makes more sense to place a legend relative to the (sub)figure\n",
    "rather than individual Axes.  By using `constrained_layout` and\n",
    "specifying \"outside\" at the beginning of the *loc* keyword argument,\n",
    "the legend is drawn outside the Axes on the (sub)figure.\n",
    "\n"
   ]
  },
  {
   "cell_type": "code",
   "execution_count": null,
   "id": "c03ec5e5-f73f-4611-90d8-9b8dcbab7e38",
   "metadata": {
    "jupyter": {
     "outputs_hidden": false
    }
   },
   "outputs": [],
   "source": [
    "fig, axs = plt.subplot_mosaic([['left', 'right']], layout='constrained')\n",
    "\n",
    "axs['left'].plot([1, 2, 3], label=\"test1\")\n",
    "axs['left'].plot([3, 2, 1], label=\"test2\")\n",
    "\n",
    "axs['right'].plot([1, 2, 3], 'C2', label=\"test3\")\n",
    "axs['right'].plot([3, 2, 1], 'C3', label=\"test4\")\n",
    "# Place a legend to the right of this smaller subplot.\n",
    "fig.legend(loc='outside upper right')"
   ]
  },
  {
   "cell_type": "markdown",
   "id": "424bc2fc-be39-48e9-b9d6-bc18396cf972",
   "metadata": {},
   "source": [
    "This accepts a slightly different grammar than the normal *loc* keyword,\n",
    "where \"outside right upper\" is different from \"outside upper right\".\n",
    "\n",
    "\n"
   ]
  },
  {
   "cell_type": "code",
   "execution_count": null,
   "id": "fc72789d-424f-4f22-95e6-872e9cc5f2b1",
   "metadata": {
    "jupyter": {
     "outputs_hidden": false
    }
   },
   "outputs": [],
   "source": [
    "ucl = ['upper', 'center', 'lower']\n",
    "lcr = ['left', 'center', 'right']\n",
    "fig, ax = plt.subplots(figsize=(6, 4), layout='constrained', facecolor='0.7')\n",
    "\n",
    "ax.plot([1, 2], [1, 2], label='TEST')\n",
    "# Place a legend to the right of this smaller subplot.\n",
    "for loc in [\n",
    "        'outside upper left',\n",
    "        'outside upper center',\n",
    "        'outside upper right',\n",
    "        'outside lower left',\n",
    "        'outside lower center',\n",
    "        'outside lower right']:\n",
    "    fig.legend(loc=loc, title=loc)\n",
    "\n",
    "fig, ax = plt.subplots(figsize=(6, 4), layout='constrained', facecolor='0.7')\n",
    "ax.plot([1, 2], [1, 2], label='test')\n",
    "\n",
    "for loc in [\n",
    "        'outside left upper',\n",
    "        'outside right upper',\n",
    "        'outside left lower',\n",
    "        'outside right lower']:\n",
    "    fig.legend(loc=loc, title=loc)"
   ]
  },
  {
   "cell_type": "markdown",
   "id": "10412d12-49c5-4dfe-9334-1a03a1a37d00",
   "metadata": {},
   "source": [
    "## Including non-graph content in a figure"
   ]
  },
  {
   "cell_type": "markdown",
   "id": "3e57b36e-93aa-4264-b046-fd206dbd3e87",
   "metadata": {},
   "source": [
    "### Resources\n",
    "\n",
    "- https://matplotlib.org/stable/tutorials/text/text_intro.html\n",
    "- https://matplotlib.org/stable/api/_as_gen/matplotlib.axes.Axes.label_outer.html\n",
    "- https://matplotlib.org/stable/tutorials/text/annotations.html\n",
    "- https://matplotlib.org/stable/tutorials/intermediate/legend_guide.html\n",
    "- https://matplotlib.org/stable/gallery/subplots_axes_and_figures/figure_title.html\n"
   ]
  }
 ],
 "metadata": {
  "kernelspec": {
   "display_name": "Python 3 (ipykernel)",
   "language": "python",
   "name": "python3"
  },
  "language_info": {
   "codemirror_mode": {
    "name": "ipython",
    "version": 3
   },
   "file_extension": ".py",
   "mimetype": "text/x-python",
   "name": "python",
   "nbconvert_exporter": "python",
   "pygments_lexer": "ipython3",
   "version": "3.11.0"
  }
 },
 "nbformat": 4,
 "nbformat_minor": 5
}
