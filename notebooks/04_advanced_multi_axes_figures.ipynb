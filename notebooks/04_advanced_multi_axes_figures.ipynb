{
 "cells": [
  {
   "cell_type": "markdown",
   "id": "f1a7f8f0-e814-4299-9bad-286ac02ed8df",
   "metadata": {},
   "source": [
    "### Resources\n",
    "- https://matplotlib.org/stable/tutorials/intermediate/arranging_axes.html#low-level-and-advanced-grid-methods\n",
    "- https://matplotlib.org/stable/gallery/subplots_axes_and_figures/axes_demo.html\n",
    "- https://matplotlib.org/stable/gallery/subplots_axes_and_figures/ganged_plots.html\n",
    "- https://matplotlib.org/stable/gallery/subplots_axes_and_figures/gridspec_and_subplots.html\n",
    "- https://matplotlib.org/stable/gallery/subplots_axes_and_figures/gridspec_multicolumn.html\n",
    "- https://matplotlib.org/stable/gallery/subplots_axes_and_figures/subplots_adjust.html"
   ]
  },
  {
   "cell_type": "code",
   "execution_count": null,
   "id": "d3a7464f-7319-44e3-880c-611104352133",
   "metadata": {},
   "outputs": [],
   "source": []
  }
 ],
 "metadata": {
  "kernelspec": {
   "display_name": "Python 3 (ipykernel)",
   "language": "python",
   "name": "python3"
  },
  "language_info": {
   "codemirror_mode": {
    "name": "ipython",
    "version": 3
   },
   "file_extension": ".py",
   "mimetype": "text/x-python",
   "name": "python",
   "nbconvert_exporter": "python",
   "pygments_lexer": "ipython3",
   "version": "3.11.4"
  }
 },
 "nbformat": 4,
 "nbformat_minor": 5
}
