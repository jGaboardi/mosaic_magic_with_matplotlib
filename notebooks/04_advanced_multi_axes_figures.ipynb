{
 "cells": [
  {
   "cell_type": "code",
   "execution_count": null,
   "id": "59c94246-551f-4305-8214-c5afdbff67e8",
   "metadata": {},
   "outputs": [],
   "source": [
    "%matplotlib widget\n",
    "import matplotlib.pyplot as plt\n",
    "\n",
    "\n",
    "# Helper function to put some text on an axes to help identify them\n",
    "def annotate_axes(ax, text, fontsize=18):\n",
    "    ax.text(0.5, 0.5, text, transform=ax.transAxes,\n",
    "            ha=\"center\", va=\"center\", fontsize=fontsize, color=\"darkgrey\")"
   ]
  },
  {
   "cell_type": "markdown",
   "id": "28a59bb1-5636-4089-97b0-9ed6e74f1760",
   "metadata": {},
   "source": [
    "### Underlying tools\n",
    "\n",
    "Underlying `subplots` and `subplot_mosaic` are the concept of a `ridSpec` and\n",
    "a `SubplotSpec`:\n",
    "\n",
    "`GridSpec`\n",
    "    Specifies the geometry of the grid that a subplot will be\n",
    "    placed. The number of rows and number of columns of the grid\n",
    "    need to be set. Optionally, the subplot layout parameters\n",
    "    (e.g., left, right, etc.) can be tuned.\n",
    "\n",
    "`SubplotSpec`\n",
    "    Specifies the location of the subplot in the given `GridSpec`.\n",
    "\n",
    "### Adding single Axes at a time\n",
    "\n",
    "The above functions create all Axes in a single function call.  It is also\n",
    "possible to add Axes one at a time, and this was originally how Matplotlib\n",
    "used to work.  Doing so is generally less elegant and flexible, though\n",
    "sometimes useful for interactive work or to place an Axes in a custom\n",
    "location:\n",
    "\n",
    "`Figure.add_axes`\n",
    "    Adds a single axes at a location specified by\n",
    "    ``[left, bottom, width, height]`` in fractions of figure width or height.\n",
    "\n",
    "`pyplot.subplot` or `Figure.add_subplot`\n",
    "    Adds a single subplot on a figure, with 1-based indexing (inherited from\n",
    "    Matlab).  Columns and rows can be spanned by specifying a range of grid\n",
    "    cells.\n",
    "\n",
    "`pyplot.subplot2grid`\n",
    "    Similar to `.pyplot.subplot`, but uses 0-based indexing and two-d python\n",
    "    slicing to choose cells.\n"
   ]
  },
  {
   "cell_type": "markdown",
   "id": "91e6d6d9-4a6c-4233-a8e0-e6e951bf38e2",
   "metadata": {},
   "source": [
    "## Low-level and advanced grid methods\n",
    "\n",
    "Internally, the arrangement of a grid of Axes is controlled by creating\n",
    "instances of `GridSpec` and `SubplotSpec`. *GridSpec* defines a\n",
    "(possibly non-uniform) grid of cells. Indexing into the *GridSpec* returns\n",
    "a SubplotSpec that covers one or more grid cells, and can be used to\n",
    "specify the location of an Axes.\n",
    "\n",
    "The following examples show how to use low-level methods to arrange Axes\n",
    "using *GridSpec* objects.\n",
    "\n",
    "### Basic 2x2 grid\n",
    "\n",
    "We can accomplish a 2x2 grid in the same manner as\n",
    "``plt.subplots(2, 2)``:\n",
    "\n"
   ]
  },
  {
   "cell_type": "code",
   "execution_count": null,
   "id": "97101ade-dc3f-44bd-9c8d-77f1d48d6f30",
   "metadata": {
    "jupyter": {
     "outputs_hidden": false
    }
   },
   "outputs": [],
   "source": [
    "fig = plt.figure(figsize=(5.5, 3.5), layout=\"constrained\")\n",
    "spec = fig.add_gridspec(ncols=2, nrows=2)\n",
    "\n",
    "ax0 = fig.add_subplot(spec[0, 0])\n",
    "annotate_axes(ax0, 'ax0')\n",
    "\n",
    "ax1 = fig.add_subplot(spec[0, 1])\n",
    "annotate_axes(ax1, 'ax1')\n",
    "\n",
    "ax2 = fig.add_subplot(spec[1, 0])\n",
    "annotate_axes(ax2, 'ax2')\n",
    "\n",
    "ax3 = fig.add_subplot(spec[1, 1])\n",
    "annotate_axes(ax3, 'ax3')\n",
    "\n",
    "fig.suptitle('Manually added subplots using add_gridspec')"
   ]
  },
  {
   "cell_type": "markdown",
   "id": "d24b386b-526c-45be-b373-4cbdb3a612fa",
   "metadata": {},
   "source": [
    "### Axes spanning rows or grids in a grid\n",
    "\n",
    "We can index the *spec* array using [NumPy slice syntax](https://numpy.org/doc/stable/reference/arrays.indexing.html)\n",
    "and the new Axes will span the slice.  This would be the same\n",
    "as ``fig, axd = plt.subplot_mosaic([['ax0', 'ax0'], ['ax1', 'ax2']], ...)``:\n",
    "\n"
   ]
  },
  {
   "cell_type": "code",
   "execution_count": null,
   "id": "8fe0b51a-6294-4570-9a54-fd307db7fefc",
   "metadata": {
    "jupyter": {
     "outputs_hidden": false
    }
   },
   "outputs": [],
   "source": [
    "fig = plt.figure(figsize=(5.5, 3.5), layout=\"constrained\")\n",
    "spec = fig.add_gridspec(2, 2)\n",
    "\n",
    "ax0 = fig.add_subplot(spec[0, :])\n",
    "annotate_axes(ax0, 'ax0')\n",
    "\n",
    "ax10 = fig.add_subplot(spec[1, 0])\n",
    "annotate_axes(ax10, 'ax10')\n",
    "\n",
    "ax11 = fig.add_subplot(spec[1, 1])\n",
    "annotate_axes(ax11, 'ax11')\n",
    "\n",
    "fig.suptitle('Manually added subplots, spanning a column')"
   ]
  },
  {
   "cell_type": "markdown",
   "id": "9f9d9cd0-6baf-4988-821e-59f81cedc7b3",
   "metadata": {},
   "source": [
    "### Manual adjustments to a *GridSpec* layout\n",
    "\n",
    "When a  *GridSpec* is explicitly used, you can adjust the layout\n",
    "parameters of subplots that are created from the  *GridSpec*.  Note this\n",
    "option is not compatible with ``constrained_layout`` or\n",
    "`Figure.tight_layout` which both ignore *left* and *right* and adjust\n",
    "subplot sizes to fill the figure.  Usually such manual placement\n",
    "requires iterations to make the Axes tick labels not overlap the Axes.\n",
    "\n",
    "These spacing parameters can also be passed to `pyplot.subplots` and\n",
    "`pyplot.subplot_mosaic` as the *gridspec_kw* argument.\n",
    "\n"
   ]
  },
  {
   "cell_type": "code",
   "execution_count": null,
   "id": "958ae8f3-7f13-41b0-97e3-15efea7ad980",
   "metadata": {
    "jupyter": {
     "outputs_hidden": false
    }
   },
   "outputs": [],
   "source": [
    "fig = plt.figure(layout=None, facecolor='0.9')\n",
    "gs = fig.add_gridspec(nrows=3, ncols=3, left=0.05, right=0.75,\n",
    "                      hspace=0.1, wspace=0.05)\n",
    "ax0 = fig.add_subplot(gs[:-1, :])\n",
    "annotate_axes(ax0, 'ax0')\n",
    "ax1 = fig.add_subplot(gs[-1, :-1])\n",
    "annotate_axes(ax1, 'ax1')\n",
    "ax2 = fig.add_subplot(gs[-1, -1])\n",
    "annotate_axes(ax2, 'ax2')\n",
    "fig.suptitle('Manual gridspec with right=0.75')"
   ]
  },
  {
   "cell_type": "markdown",
   "id": "11ab897a-30b2-4cff-b74b-09d8ab675eba",
   "metadata": {},
   "source": [
    "### Nested layouts with SubplotSpec\n",
    "\n",
    "You can create nested layout similar to `Figure.subfigures` using\n",
    "`SubplotSpec.subgridspec`.  Here the Axes spines *are*\n",
    "aligned.\n",
    "\n",
    "Note this is also available from the more verbose\n",
    "`GridSpecFromSubplotSpec`.\n",
    "\n"
   ]
  },
  {
   "cell_type": "code",
   "execution_count": null,
   "id": "7ec883a3-25a4-41fd-829e-d770dc1bae91",
   "metadata": {
    "jupyter": {
     "outputs_hidden": false
    }
   },
   "outputs": [],
   "source": [
    "fig = plt.figure(layout=\"constrained\")\n",
    "gs0 = fig.add_gridspec(1, 2)\n",
    "\n",
    "gs00 = gs0[0].subgridspec(2, 2)\n",
    "gs01 = gs0[1].subgridspec(3, 1)\n",
    "\n",
    "for a in range(2):\n",
    "    for b in range(2):\n",
    "        ax = fig.add_subplot(gs00[a, b])\n",
    "        annotate_axes(ax, f'axLeft[{a}, {b}]', fontsize=10)\n",
    "        if a == 1 and b == 1:\n",
    "            ax.set_xlabel('xlabel')\n",
    "for a in range(3):\n",
    "    ax = fig.add_subplot(gs01[a])\n",
    "    annotate_axes(ax, f'axRight[{a}, {b}]')\n",
    "    if a == 2:\n",
    "        ax.set_ylabel('ylabel')\n",
    "\n",
    "fig.suptitle('nested gridspecs')"
   ]
  },
  {
   "cell_type": "markdown",
   "id": "f5e1e28d-6762-4877-a1d1-028fef5b03ad",
   "metadata": {},
   "source": [
    "Here's a more sophisticated example of nested *GridSpec*: We create an outer\n",
    "4x4 grid with each cell containing an inner 3x3 grid of Axes. We outline\n",
    "the outer 4x4 grid by hiding appropriate spines in each of the inner 3x3\n",
    "grids.\n",
    "\n"
   ]
  },
  {
   "cell_type": "code",
   "execution_count": null,
   "id": "30b14415-1cf0-459c-863c-5e104f30001e",
   "metadata": {
    "jupyter": {
     "outputs_hidden": false
    }
   },
   "outputs": [],
   "source": [
    "def squiggle_xy(a, b, c, d, i=np.arange(0.0, 2*np.pi, 0.05)):\n",
    "    return np.sin(i*a)*np.cos(i*b), np.sin(i*c)*np.cos(i*d)\n",
    "\n",
    "fig = plt.figure(figsize=(8, 8), constrained_layout=False)\n",
    "outer_grid = fig.add_gridspec(4, 4, wspace=0, hspace=0)\n",
    "\n",
    "for a in range(4):\n",
    "    for b in range(4):\n",
    "        # gridspec inside gridspec\n",
    "        inner_grid = outer_grid[a, b].subgridspec(3, 3, wspace=0, hspace=0)\n",
    "        axs = inner_grid.subplots()  # Create all subplots for the inner grid.\n",
    "        for (c, d), ax in np.ndenumerate(axs):\n",
    "            ax.plot(*squiggle_xy(a + 1, b + 1, c + 1, d + 1))\n",
    "            ax.set(xticks=[], yticks=[])\n",
    "\n",
    "# show only the outside spines\n",
    "for ax in fig.get_axes():\n",
    "    ss = ax.get_subplotspec()\n",
    "    ax.spines.top.set_visible(ss.is_first_row())\n",
    "    ax.spines.bottom.set_visible(ss.is_last_row())\n",
    "    ax.spines.left.set_visible(ss.is_first_col())\n",
    "    ax.spines.right.set_visible(ss.is_last_col())\n",
    "\n",
    "plt.show()"
   ]
  },
  {
   "cell_type": "markdown",
   "id": "f1a7f8f0-e814-4299-9bad-286ac02ed8df",
   "metadata": {},
   "source": [
    "### Resources\n",
    "- https://matplotlib.org/stable/tutorials/intermediate/arranging_axes.html#low-level-and-advanced-grid-methods\n",
    "- https://matplotlib.org/stable/gallery/subplots_axes_and_figures/axes_demo.html\n",
    "- https://matplotlib.org/stable/gallery/subplots_axes_and_figures/ganged_plots.html\n",
    "- https://matplotlib.org/stable/gallery/subplots_axes_and_figures/gridspec_and_subplots.html\n",
    "- https://matplotlib.org/stable/gallery/subplots_axes_and_figures/gridspec_multicolumn.html\n",
    "- https://matplotlib.org/stable/gallery/subplots_axes_and_figures/subplots_adjust.html"
   ]
  },
  {
   "cell_type": "code",
   "execution_count": null,
   "id": "d3a7464f-7319-44e3-880c-611104352133",
   "metadata": {},
   "outputs": [],
   "source": []
  }
 ],
 "metadata": {
  "kernelspec": {
   "display_name": "Python 3 (ipykernel)",
   "language": "python",
   "name": "python3"
  },
  "language_info": {
   "codemirror_mode": {
    "name": "ipython",
    "version": 3
   },
   "file_extension": ".py",
   "mimetype": "text/x-python",
   "name": "python",
   "nbconvert_exporter": "python",
   "pygments_lexer": "ipython3",
   "version": "3.11.0"
  }
 },
 "nbformat": 4,
 "nbformat_minor": 5
}
