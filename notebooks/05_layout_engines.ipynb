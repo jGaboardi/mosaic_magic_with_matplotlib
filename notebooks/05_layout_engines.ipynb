{
 "cells": [
  {
   "cell_type": "markdown",
   "id": "59b105ce-9140-4525-88e1-589107ed01cd",
   "metadata": {},
   "source": [
    "### Resources\n",
    "\n",
    "- https://matplotlib.org/stable/tutorials/intermediate/constrainedlayout_guide.html\n",
    "- https://matplotlib.org/stable/tutorials/intermediate/tight_layout_guide.html\n",
    "- https://matplotlib.org/stable/gallery/subplots_axes_and_figures/demo_constrained_layout.html\n",
    "- https://matplotlib.org/stable/gallery/subplots_axes_and_figures/demo_tight_layout.html"
   ]
  },
  {
   "cell_type": "code",
   "execution_count": null,
   "id": "d56e268c-b42c-4923-8427-a3d5878d57ea",
   "metadata": {},
   "outputs": [],
   "source": []
  }
 ],
 "metadata": {
  "kernelspec": {
   "display_name": "Python 3 (ipykernel)",
   "language": "python",
   "name": "python3"
  },
  "language_info": {
   "codemirror_mode": {
    "name": "ipython",
    "version": 3
   },
   "file_extension": ".py",
   "mimetype": "text/x-python",
   "name": "python",
   "nbconvert_exporter": "python",
   "pygments_lexer": "ipython3",
   "version": "3.11.4"
  }
 },
 "nbformat": 4,
 "nbformat_minor": 5
}
