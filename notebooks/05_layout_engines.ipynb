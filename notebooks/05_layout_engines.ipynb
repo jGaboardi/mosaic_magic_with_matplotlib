{
 "cells": [
  {
   "cell_type": "code",
   "execution_count": null,
   "id": "4c7058ca-83ac-47da-a0d6-05ec11abede2",
   "metadata": {
    "jupyter": {
     "outputs_hidden": false
    }
   },
   "outputs": [],
   "source": [
    "%matplotlib widget"
   ]
  },
  {
   "cell_type": "markdown",
   "id": "2beac646-0bf6-443e-b36f-0799840d0e80",
   "metadata": {},
   "source": [
    "\n",
    "# Constrained Layout Guide\n",
    "\n",
    "How to use constrained-layout to fit plots within your figure cleanly.\n",
    "\n",
    "*constrained_layout* automatically adjusts subplots and decorations like\n",
    "legends and colorbars so that they fit in the figure window while still\n",
    "preserving, as best they can, the logical layout requested by the user.\n",
    "\n",
    "*constrained_layout* is similar to `tight_layout`,\n",
    "but uses a constraint solver to determine the size of axes that allows\n",
    "them to fit.\n",
    "\n",
    "*constrained_layout* typically needs to be activated before any axes are\n",
    "added to a figure. Two ways of doing so are\n",
    "\n",
    "* using the respective argument to `pyplot.subplots` or\n",
    "  `pyplot.figure`, e.g.:\n",
    "\n",
    "```python\n",
    "      plt.subplots(layout=\"constrained\")\n",
    "```\n",
    "\n",
    "* activate it via `rcParams`,\n",
    "  like:\n",
    "  \n",
    "```python\n",
    "      plt.rcParams['figure.constrained_layout.use'] = True\n",
    "```\n",
    "\n",
    "Those are described in detail throughout the following sections.\n",
    "\n",
    "## Simple Example\n",
    "\n",
    "In Matplotlib, the location of axes (including subplots) are specified in\n",
    "normalized figure coordinates. It can happen that your axis labels or\n",
    "titles (or sometimes even ticklabels) go outside the figure area, and are thus\n",
    "clipped.\n"
   ]
  },
  {
   "cell_type": "code",
   "execution_count": null,
   "id": "d7830f8d-d930-47fe-bde6-f70b824ccff8",
   "metadata": {
    "jupyter": {
     "outputs_hidden": false
    }
   },
   "outputs": [],
   "source": [
    "import matplotlib.pyplot as plt\n",
    "import matplotlib.colors as mcolors\n",
    "import matplotlib.gridspec as gridspec\n",
    "import numpy as np\n",
    "\n",
    "plt.rcParams['savefig.facecolor'] = \"0.8\"\n",
    "plt.rcParams['figure.figsize'] = 4.5, 4.\n",
    "plt.rcParams['figure.max_open_warning'] = 50\n",
    "\n",
    "\n",
    "def example_plot(ax, fontsize=12, hide_labels=False):\n",
    "    ax.plot([1, 2])\n",
    "\n",
    "    ax.locator_params(nbins=3)\n",
    "    if hide_labels:\n",
    "        ax.set_xticklabels([])\n",
    "        ax.set_yticklabels([])\n",
    "    else:\n",
    "        ax.set_xlabel('x-label', fontsize=fontsize)\n",
    "        ax.set_ylabel('y-label', fontsize=fontsize)\n",
    "        ax.set_title('Title', fontsize=fontsize)\n",
    "\n",
    "fig, ax = plt.subplots(layout=None)\n",
    "example_plot(ax, fontsize=24)"
   ]
  },
  {
   "cell_type": "markdown",
   "id": "927bd03f-f451-4bd9-9e9f-f780fea8a82e",
   "metadata": {},
   "source": [
    "To prevent this, the location of axes needs to be adjusted. For\n",
    "subplots, this can be done manually by adjusting the subplot parameters\n",
    "using `Figure.subplots_adjust`. However, specifying your figure with the\n",
    "``layout=\"constrained\"`` keyword argument will do the adjusting\n",
    "automatically.\n",
    "\n"
   ]
  },
  {
   "cell_type": "code",
   "execution_count": null,
   "id": "2a4a56d9-2211-4e2e-a820-7fe3edfabe95",
   "metadata": {
    "jupyter": {
     "outputs_hidden": false
    }
   },
   "outputs": [],
   "source": [
    "fig, ax = plt.subplots(layout=\"constrained\")\n",
    "example_plot(ax, fontsize=24)"
   ]
  },
  {
   "cell_type": "markdown",
   "id": "dfc4ae66-4f34-4b21-844c-b6a2b6c9e4d2",
   "metadata": {},
   "source": [
    "When you have multiple subplots, often you see labels of different\n",
    "axes overlapping each other.\n",
    "\n"
   ]
  },
  {
   "cell_type": "code",
   "execution_count": null,
   "id": "850724ca-8c16-4b12-822b-2942af6d8665",
   "metadata": {
    "jupyter": {
     "outputs_hidden": false
    }
   },
   "outputs": [],
   "source": [
    "fig, axs = plt.subplots(2, 2, layout=None)\n",
    "for ax in axs.flat:\n",
    "    example_plot(ax)"
   ]
  },
  {
   "cell_type": "markdown",
   "id": "a9c514b6-55be-4ef7-bb2d-b79493039547",
   "metadata": {},
   "source": [
    "Specifying ``layout=\"constrained\"`` in the call to ``plt.subplots``\n",
    "causes the layout to be properly constrained.\n",
    "\n"
   ]
  },
  {
   "cell_type": "code",
   "execution_count": null,
   "id": "b277adbe-00fe-4834-8fff-52534630588b",
   "metadata": {
    "jupyter": {
     "outputs_hidden": false
    }
   },
   "outputs": [],
   "source": [
    "fig, axs = plt.subplots(2, 2, layout=\"constrained\")\n",
    "for ax in axs.flat:\n",
    "    example_plot(ax)"
   ]
  },
  {
   "cell_type": "markdown",
   "id": "4f0b6645-dc55-4950-bbd5-d0a871d2df60",
   "metadata": {},
   "source": [
    "## Colorbars\n",
    "\n",
    "If you create a colorbar with `Figure.colorbar`,\n",
    "you need to make room for it.  `constrained_layout` does this\n",
    "automatically.  Note that if you specify `use_gridspec=True` it will be\n",
    "ignored because this option is made for improving the layout via\n",
    "`tight_layout`.\n",
    "\n",
    "<div class=\"alert alert-info\"><h4>Note</h4><p>For the `Axes.pcolormesh` keyword arguments (`pc_kwargs`) we use a\n",
    "  dictionary. Below we will assign one colorbar to a number of axes each\n",
    "  containing a `ScalarMappable`; specifying the norm and colormap\n",
    "  ensures the colorbar is accurate for all the axes.</p></div>\n",
    "\n"
   ]
  },
  {
   "cell_type": "code",
   "execution_count": null,
   "id": "2a5efdb5-1173-4f6c-925d-a56e95c09405",
   "metadata": {
    "jupyter": {
     "outputs_hidden": false
    }
   },
   "outputs": [],
   "source": [
    "arr = np.arange(100).reshape((10, 10))\n",
    "norm = mcolors.Normalize(vmin=0., vmax=100.)\n",
    "# see note above: this makes all pcolormesh calls consistent:\n",
    "pc_kwargs = {'rasterized': True, 'cmap': 'viridis', 'norm': norm}\n",
    "fig, ax = plt.subplots(figsize=(4, 4), layout=\"constrained\")\n",
    "im = ax.pcolormesh(arr, **pc_kwargs)\n",
    "fig.colorbar(im, ax=ax, shrink=0.6)"
   ]
  },
  {
   "cell_type": "markdown",
   "id": "929ac6e7-ebc1-48de-a99b-8fc68de209df",
   "metadata": {},
   "source": [
    "If you specify a list of axes (or other iterable container) to the\n",
    "``ax`` argument of ``colorbar``, constrained_layout will take space from\n",
    "the specified axes.\n",
    "\n"
   ]
  },
  {
   "cell_type": "code",
   "execution_count": null,
   "id": "4611ac8b-caa1-4b7a-ab46-9cc427d80801",
   "metadata": {
    "jupyter": {
     "outputs_hidden": false
    }
   },
   "outputs": [],
   "source": [
    "fig, axs = plt.subplots(2, 2, figsize=(4, 4), layout=\"constrained\")\n",
    "for ax in axs.flat:\n",
    "    im = ax.pcolormesh(arr, **pc_kwargs)\n",
    "fig.colorbar(im, ax=axs, shrink=0.6)"
   ]
  },
  {
   "cell_type": "markdown",
   "id": "086ecfc9-3883-4b68-a33a-9cfbe2ca5d28",
   "metadata": {},
   "source": [
    "If you specify a list of axes from inside a grid of axes, the colorbar\n",
    "will steal space appropriately, and leave a gap, but all subplots will\n",
    "still be the same size.\n",
    "\n"
   ]
  },
  {
   "cell_type": "code",
   "execution_count": null,
   "id": "bcbde0ae-64d9-4cab-8288-f652e1ed38c8",
   "metadata": {
    "jupyter": {
     "outputs_hidden": false
    }
   },
   "outputs": [],
   "source": [
    "fig, axs = plt.subplots(3, 3, figsize=(4, 4), layout=\"constrained\")\n",
    "for ax in axs.flat:\n",
    "    im = ax.pcolormesh(arr, **pc_kwargs)\n",
    "fig.colorbar(im, ax=axs[1:, ][:, 1], shrink=0.8)\n",
    "fig.colorbar(im, ax=axs[:, -1], shrink=0.6)"
   ]
  },
  {
   "cell_type": "markdown",
   "id": "3bbf7306-127a-4dd3-98fc-217f1f7b34bb",
   "metadata": {},
   "source": [
    "## Suptitle\n",
    "\n",
    "``constrained_layout`` can also make room for `Figure.suptitle`.\n",
    "\n"
   ]
  },
  {
   "cell_type": "code",
   "execution_count": null,
   "id": "55efe680-f9f6-4fce-8468-579cac07751e",
   "metadata": {
    "jupyter": {
     "outputs_hidden": false
    }
   },
   "outputs": [],
   "source": [
    "fig, axs = plt.subplots(2, 2, figsize=(4, 4), layout=\"constrained\")\n",
    "for ax in axs.flat:\n",
    "    im = ax.pcolormesh(arr, **pc_kwargs)\n",
    "fig.colorbar(im, ax=axs, shrink=0.6)\n",
    "fig.suptitle('Big Suptitle')"
   ]
  },
  {
   "cell_type": "markdown",
   "id": "35aa0d98-f978-4b33-911d-47be193b6af7",
   "metadata": {},
   "source": [
    "## Padding and Spacing\n",
    "\n",
    "Padding between axes is controlled in the horizontal by *w_pad* and\n",
    "*wspace*, and vertical by *h_pad* and *hspace*.  These can be edited\n",
    "via `~.layout_engine.ConstrainedLayoutEngine.set`.  *w/h_pad* are\n",
    "the minimum space around the axes in units of inches:\n",
    "\n"
   ]
  },
  {
   "cell_type": "code",
   "execution_count": null,
   "id": "61509fb9-ff84-4288-a5fc-b7ffb5dea2dc",
   "metadata": {
    "jupyter": {
     "outputs_hidden": false
    }
   },
   "outputs": [],
   "source": [
    "fig, axs = plt.subplots(2, 2, layout=\"constrained\")\n",
    "for ax in axs.flat:\n",
    "    example_plot(ax, hide_labels=True)\n",
    "fig.get_layout_engine().set(w_pad=4 / 72, h_pad=4 / 72, hspace=0,\n",
    "                            wspace=0)"
   ]
  },
  {
   "cell_type": "markdown",
   "id": "b0eebe65-0daf-48f7-97c0-f2174039c9fc",
   "metadata": {},
   "source": [
    "Spacing between subplots is further set by *wspace* and *hspace*. These\n",
    "are specified as a fraction of the size of the subplot group as a whole.\n",
    "If these values are smaller than *w_pad* or *h_pad*, then the fixed pads are\n",
    "used instead. Note in the below how the space at the edges doesn't change\n",
    "from the above, but the space between subplots does.\n",
    "\n"
   ]
  },
  {
   "cell_type": "code",
   "execution_count": null,
   "id": "bc00f4d2-7994-43c5-9188-02bd37bcc6ae",
   "metadata": {
    "jupyter": {
     "outputs_hidden": false
    }
   },
   "outputs": [],
   "source": [
    "fig, axs = plt.subplots(2, 2, layout=\"constrained\")\n",
    "for ax in axs.flat:\n",
    "    example_plot(ax, hide_labels=True)\n",
    "fig.get_layout_engine().set(w_pad=4 / 72, h_pad=4 / 72, hspace=0.2,\n",
    "                            wspace=0.2)"
   ]
  },
  {
   "cell_type": "markdown",
   "id": "50952c7c-0e10-4350-ae79-4c5cd26a5a8b",
   "metadata": {},
   "source": [
    "If there are more than two columns, the *wspace* is shared between them,\n",
    "so here the wspace is divided in two, with a *wspace* of 0.1 between each\n",
    "column:\n",
    "\n"
   ]
  },
  {
   "cell_type": "code",
   "execution_count": null,
   "id": "0c501605-ced8-40e1-a47c-741ed451933c",
   "metadata": {
    "jupyter": {
     "outputs_hidden": false
    }
   },
   "outputs": [],
   "source": [
    "fig, axs = plt.subplots(2, 3, layout=\"constrained\")\n",
    "for ax in axs.flat:\n",
    "    example_plot(ax, hide_labels=True)\n",
    "fig.get_layout_engine().set(w_pad=4 / 72, h_pad=4 / 72, hspace=0.2,\n",
    "                            wspace=0.2)"
   ]
  },
  {
   "cell_type": "markdown",
   "id": "01829454-b0c7-44fa-9dfd-07959286c49f",
   "metadata": {},
   "source": [
    "GridSpecs also have optional *hspace* and *wspace* keyword arguments,\n",
    "that will be used instead of the pads set by ``constrained_layout``:\n",
    "\n"
   ]
  },
  {
   "cell_type": "code",
   "execution_count": null,
   "id": "e258f20d-43d7-4eaf-82eb-c65618b24af7",
   "metadata": {
    "jupyter": {
     "outputs_hidden": false
    }
   },
   "outputs": [],
   "source": [
    "fig, axs = plt.subplots(2, 2, layout=\"constrained\",\n",
    "                        gridspec_kw={'wspace': 0.3, 'hspace': 0.2})\n",
    "for ax in axs.flat:\n",
    "    example_plot(ax, hide_labels=True)\n",
    "# this has no effect because the space set in the gridspec trumps the\n",
    "# space set in constrained_layout.\n",
    "fig.get_layout_engine().set(w_pad=4 / 72, h_pad=4 / 72, hspace=0.0,\n",
    "                            wspace=0.0)"
   ]
  },
  {
   "cell_type": "markdown",
   "id": "1490dd34-3e21-4460-a184-6447366f3466",
   "metadata": {},
   "source": [
    "### Spacing with colorbars\n",
    "\n",
    "Colorbars are placed a distance *pad* from their parent, where *pad*\n",
    "is a fraction of the width of the parent(s).  The spacing to the\n",
    "next subplot is then given by *w/hspace*.\n",
    "\n"
   ]
  },
  {
   "cell_type": "code",
   "execution_count": null,
   "id": "b8dda592-d748-475f-bacf-9a6338466be3",
   "metadata": {
    "jupyter": {
     "outputs_hidden": false
    }
   },
   "outputs": [],
   "source": [
    "fig, axs = plt.subplots(2, 2, layout=\"constrained\")\n",
    "pads = [0, 0.05, 0.1, 0.2]\n",
    "for pad, ax in zip(pads, axs.flat):\n",
    "    pc = ax.pcolormesh(arr, **pc_kwargs)\n",
    "    fig.colorbar(pc, ax=ax, shrink=0.6, pad=pad)\n",
    "    ax.set_xticklabels([])\n",
    "    ax.set_yticklabels([])\n",
    "    ax.set_title(f'pad: {pad}')\n",
    "fig.get_layout_engine().set(w_pad=2 / 72, h_pad=2 / 72, hspace=0.2,\n",
    "                            wspace=0.2)"
   ]
  },
  {
   "cell_type": "markdown",
   "id": "5576af38-b770-4871-8c71-f95889aa92a1",
   "metadata": {},
   "source": [
    "\n",
    "## Grids of fixed aspect-ratio Axes: \"compressed\" layout\n",
    "\n",
    "``constrained_layout`` operates on the grid of \"original\" positions for\n",
    "axes. However, when Axes have fixed aspect ratios, one side is usually made\n",
    "shorter, and leaves large gaps in the shortened direction. In the following,\n",
    "the Axes are square, but the figure quite wide so there is a horizontal gap:\n",
    "\n"
   ]
  },
  {
   "cell_type": "code",
   "execution_count": null,
   "id": "14e1c3dd-7a55-449b-b610-5922783d50ca",
   "metadata": {
    "jupyter": {
     "outputs_hidden": false
    }
   },
   "outputs": [],
   "source": [
    "fig, axs = plt.subplots(2, 2, figsize=(5, 3),\n",
    "                        sharex=True, sharey=True, layout=\"constrained\")\n",
    "for ax in axs.flat:\n",
    "    ax.imshow(arr)\n",
    "fig.suptitle(\"fixed-aspect plots, layout='constrained'\")"
   ]
  },
  {
   "cell_type": "markdown",
   "id": "4a740b74-59a5-4acf-aebd-08a1d845717c",
   "metadata": {},
   "source": [
    "One obvious way of fixing this is to make the figure size more square,\n",
    "however, closing the gaps exactly requires trial and error.  For simple grids\n",
    "of Axes we can use ``layout=\"compressed\"`` to do the job for us:\n",
    "\n"
   ]
  },
  {
   "cell_type": "code",
   "execution_count": null,
   "id": "1cc7ed0e-eb81-4830-86b8-f6a4010b46d6",
   "metadata": {
    "jupyter": {
     "outputs_hidden": false
    }
   },
   "outputs": [],
   "source": [
    "fig, axs = plt.subplots(2, 2, figsize=(5, 3),\n",
    "                        sharex=True, sharey=True, layout='compressed')\n",
    "for ax in axs.flat:\n",
    "    ax.imshow(arr)\n",
    "fig.suptitle(\"fixed-aspect plots, layout='compressed'\")"
   ]
  },
  {
   "cell_type": "markdown",
   "id": "b8711b8b-5eae-4d2a-9590-c7c7c77b5235",
   "metadata": {},
   "source": [
    "## Manually turning off ``constrained_layout``\n",
    "\n",
    "``constrained_layout`` usually adjusts the axes positions on each draw\n",
    "of the figure.  If you want to get the spacing provided by\n",
    "``constrained_layout`` but not have it update, then do the initial\n",
    "draw and then call ``fig.set_layout_engine(None)``.\n",
    "This is potentially useful for animations where the tick labels may\n",
    "change length.\n",
    "\n",
    "Note that ``constrained_layout`` is turned off for ``ZOOM`` and ``PAN``\n",
    "GUI events for the backends that use the toolbar.  This prevents the\n",
    "axes from changing position during zooming and panning.\n",
    "\n",
    "\n",
    "## Limitations\n",
    "\n",
    "### Incompatible functions\n",
    "\n",
    "``constrained_layout`` will work with `.pyplot.subplot`, but only if the\n",
    "number of rows and columns is the same for each call.\n",
    "The reason is that each call to `.pyplot.subplot` will create a new\n",
    "`.GridSpec` instance if the geometry is not the same, and\n",
    "``constrained_layout``.  So the following works fine:\n",
    "\n"
   ]
  },
  {
   "cell_type": "code",
   "execution_count": null,
   "id": "e968c570-db6f-41c4-9813-944d1d48caf8",
   "metadata": {
    "jupyter": {
     "outputs_hidden": false
    }
   },
   "outputs": [],
   "source": [
    "fig = plt.figure(layout=\"constrained\")\n",
    "\n",
    "ax1 = plt.subplot(2, 2, 1)\n",
    "ax2 = plt.subplot(2, 2, 3)\n",
    "# third axes that spans both rows in second column:\n",
    "ax3 = plt.subplot(2, 2, (2, 4))\n",
    "\n",
    "example_plot(ax1)\n",
    "example_plot(ax2)\n",
    "example_plot(ax3)\n",
    "plt.suptitle('Homogenous nrows, ncols')"
   ]
  },
  {
   "cell_type": "markdown",
   "id": "55e2b96f-7c9d-41f6-af1f-8e7ab90a56d8",
   "metadata": {},
   "source": [
    "but the following leads to a poor layout:\n",
    "\n"
   ]
  },
  {
   "cell_type": "code",
   "execution_count": null,
   "id": "7daa6a92-682e-427e-9c27-3f0bd603716d",
   "metadata": {
    "jupyter": {
     "outputs_hidden": false
    }
   },
   "outputs": [],
   "source": [
    "fig = plt.figure(layout=\"constrained\")\n",
    "\n",
    "ax1 = plt.subplot(2, 2, 1)\n",
    "ax2 = plt.subplot(2, 2, 3)\n",
    "ax3 = plt.subplot(1, 2, 2)\n",
    "\n",
    "example_plot(ax1)\n",
    "example_plot(ax2)\n",
    "example_plot(ax3)\n",
    "plt.suptitle('Mixed nrows, ncols')"
   ]
  },
  {
   "cell_type": "markdown",
   "id": "236eb419-6063-432b-8855-f685c81eef40",
   "metadata": {},
   "source": [
    "Similarly,\n",
    "`~matplotlib.pyplot.subplot2grid` works with the same limitation\n",
    "that nrows and ncols cannot change for the layout to look good.\n",
    "\n"
   ]
  },
  {
   "cell_type": "code",
   "execution_count": null,
   "id": "4a2a2a5d-9ccb-4e3e-b049-a5527d09d53c",
   "metadata": {
    "jupyter": {
     "outputs_hidden": false
    }
   },
   "outputs": [],
   "source": [
    "fig = plt.figure(layout=\"constrained\")\n",
    "\n",
    "ax1 = plt.subplot2grid((3, 3), (0, 0))\n",
    "ax2 = plt.subplot2grid((3, 3), (0, 1), colspan=2)\n",
    "ax3 = plt.subplot2grid((3, 3), (1, 0), colspan=2, rowspan=2)\n",
    "ax4 = plt.subplot2grid((3, 3), (1, 2), rowspan=2)\n",
    "\n",
    "example_plot(ax1)\n",
    "example_plot(ax2)\n",
    "example_plot(ax3)\n",
    "example_plot(ax4)\n",
    "fig.suptitle('subplot2grid')"
   ]
  },
  {
   "cell_type": "markdown",
   "id": "07590b5a-4f1e-43c1-882e-7e6092417a24",
   "metadata": {},
   "source": [
    "### Other Caveats\n",
    "\n",
    "* `constrained_layout` only considers ticklabels, axis labels, titles, and\n",
    "  legends.  Thus, other artists may be clipped and also may overlap.\n",
    "\n",
    "* It assumes that the extra space needed for ticklabels, axis labels,\n",
    "  and titles is independent of original location of axes. This is\n",
    "  often true, but there are rare cases where it is not.\n",
    "\n",
    "* There are small differences in how the backends handle rendering fonts,\n",
    "  so the results will not be pixel-identical.\n",
    "\n",
    "* An artist using axes coordinates that extend beyond the axes\n",
    "  boundary will result in unusual layouts when added to an\n",
    "  axes. This can be avoided by adding the artist directly to the\n",
    "  `Figure` using\n",
    "  `Figure.add_artist`. See\n",
    "  `ConnectionPatch` for an example.\n",
    "\n"
   ]
  },
  {
   "cell_type": "markdown",
   "id": "bf15eee5-38a5-4aa2-9da7-3658a92555e9",
   "metadata": {},
   "source": [
    "\n",
    "# Tight Layout guide\n",
    "\n",
    "How to use tight-layout to fit plots within your figure cleanly.\n",
    "\n",
    "*tight_layout* automatically adjusts subplot params so that the\n",
    "subplot(s) fits in to the figure area. This is an experimental\n",
    "feature and may not work for some cases. It only checks the extents\n",
    "of ticklabels, axis labels, and titles.\n",
    "\n",
    "\n",
    "## Simple Example\n",
    "\n",
    "In matplotlib, the location of axes (including subplots) are specified in\n",
    "normalized figure coordinates. It can happen that your axis labels or\n",
    "titles (or sometimes even ticklabels) go outside the figure area, and are thus\n",
    "clipped.\n"
   ]
  },
  {
   "cell_type": "code",
   "execution_count": null,
   "id": "af2392c2-7e38-4287-a9d0-c605bddf41f9",
   "metadata": {
    "jupyter": {
     "outputs_hidden": false
    }
   },
   "outputs": [],
   "source": [
    "import matplotlib.pyplot as plt\n",
    "import numpy as np\n",
    "\n",
    "plt.rcParams['savefig.facecolor'] = \"0.8\"\n",
    "\n",
    "\n",
    "def example_plot(ax, fontsize=12):\n",
    "    ax.plot([1, 2])\n",
    "\n",
    "    ax.locator_params(nbins=3)\n",
    "    ax.set_xlabel('x-label', fontsize=fontsize)\n",
    "    ax.set_ylabel('y-label', fontsize=fontsize)\n",
    "    ax.set_title('Title', fontsize=fontsize)\n",
    "\n",
    "plt.close('all')\n",
    "fig, ax = plt.subplots()\n",
    "example_plot(ax, fontsize=24)"
   ]
  },
  {
   "cell_type": "markdown",
   "id": "367f032d-93cf-42d7-977b-13b7b9d16eb6",
   "metadata": {},
   "source": [
    "To prevent this, the location of axes needs to be adjusted. For\n",
    "subplots, this can be done manually by adjusting the subplot parameters\n",
    "using `Figure.subplots_adjust`. `Figure.tight_layout` does this\n",
    "automatically.\n",
    "\n"
   ]
  },
  {
   "cell_type": "code",
   "execution_count": null,
   "id": "0e868d71-361b-4e89-8b0e-3c1b18069c80",
   "metadata": {
    "jupyter": {
     "outputs_hidden": false
    }
   },
   "outputs": [],
   "source": [
    "fig, ax = plt.subplots()\n",
    "example_plot(ax, fontsize=24)\n",
    "plt.tight_layout()"
   ]
  },
  {
   "cell_type": "markdown",
   "id": "e49d24ac-9c0e-4325-8903-9329ab94636c",
   "metadata": {},
   "source": [
    "Note that `pyplot.tight_layout` will only adjust the\n",
    "subplot params when it is called.  In order to perform this adjustment each\n",
    "time the figure is redrawn, you can call `fig.set_tight_layout(True)`, or,\n",
    "equivalently, set the `figure.autolayout` rcParam to `True`.\n",
    "\n",
    "When you have multiple subplots, often you see labels of different\n",
    "axes overlapping each other.\n",
    "\n"
   ]
  },
  {
   "cell_type": "code",
   "execution_count": null,
   "id": "a22a5c6d-4fa2-4957-aeb7-ae69d5c3c912",
   "metadata": {
    "jupyter": {
     "outputs_hidden": false
    }
   },
   "outputs": [],
   "source": [
    "plt.close('all')\n",
    "\n",
    "fig, ((ax1, ax2), (ax3, ax4)) = plt.subplots(nrows=2, ncols=2)\n",
    "example_plot(ax1)\n",
    "example_plot(ax2)\n",
    "example_plot(ax3)\n",
    "example_plot(ax4)"
   ]
  },
  {
   "cell_type": "markdown",
   "id": "b53ff9b5-9ed8-4a35-b872-727f2ff18caf",
   "metadata": {},
   "source": [
    "`pyplot.tight_layout` will also adjust spacing between\n",
    "subplots to minimize the overlaps.\n",
    "\n"
   ]
  },
  {
   "cell_type": "code",
   "execution_count": null,
   "id": "a53a0f04-560f-4c5e-95b0-1e183a191660",
   "metadata": {
    "jupyter": {
     "outputs_hidden": false
    }
   },
   "outputs": [],
   "source": [
    "fig, ((ax1, ax2), (ax3, ax4)) = plt.subplots(nrows=2, ncols=2)\n",
    "example_plot(ax1)\n",
    "example_plot(ax2)\n",
    "example_plot(ax3)\n",
    "example_plot(ax4)\n",
    "plt.tight_layout()"
   ]
  },
  {
   "cell_type": "markdown",
   "id": "cc10dc33-249c-46f3-be87-52f1f00792e9",
   "metadata": {},
   "source": [
    "`pyplot.tight_layout` can take keyword arguments of\n",
    "*pad*, *w_pad* and *h_pad*. These control the extra padding around the\n",
    "figure border and between subplots. The pads are specified in fraction\n",
    "of fontsize.\n",
    "\n"
   ]
  },
  {
   "cell_type": "code",
   "execution_count": null,
   "id": "d5de460c-637f-42bb-ba0c-8dccb7945623",
   "metadata": {
    "jupyter": {
     "outputs_hidden": false
    }
   },
   "outputs": [],
   "source": [
    "fig, ((ax1, ax2), (ax3, ax4)) = plt.subplots(nrows=2, ncols=2)\n",
    "example_plot(ax1)\n",
    "example_plot(ax2)\n",
    "example_plot(ax3)\n",
    "example_plot(ax4)\n",
    "plt.tight_layout(pad=0.4, w_pad=0.5, h_pad=1.0)"
   ]
  },
  {
   "cell_type": "markdown",
   "id": "cd9e06ea-10d3-44a5-95df-ab33634d5e18",
   "metadata": {},
   "source": [
    "`pyplot.tight_layout` will work even if the sizes of\n",
    "subplots are different as far as their grid specification is\n",
    "compatible. In the example below, *ax1* and *ax2* are subplots of a 2x2\n",
    "grid, while *ax3* is of a 1x2 grid.\n",
    "\n"
   ]
  },
  {
   "cell_type": "code",
   "execution_count": null,
   "id": "ab1938a7-dd04-4a15-99e0-c25f3c00c699",
   "metadata": {
    "jupyter": {
     "outputs_hidden": false
    }
   },
   "outputs": [],
   "source": [
    "plt.close('all')\n",
    "fig = plt.figure()\n",
    "\n",
    "ax1 = plt.subplot(221)\n",
    "ax2 = plt.subplot(223)\n",
    "ax3 = plt.subplot(122)\n",
    "\n",
    "example_plot(ax1)\n",
    "example_plot(ax2)\n",
    "example_plot(ax3)\n",
    "\n",
    "plt.tight_layout()"
   ]
  },
  {
   "cell_type": "markdown",
   "id": "a78ea310-a651-4468-8768-61363db51864",
   "metadata": {},
   "source": [
    "It works with subplots created with\n",
    "`pyplot.subplot2grid`. In general, subplots created\n",
    "from the gridspec will work.\n",
    "\n"
   ]
  },
  {
   "cell_type": "code",
   "execution_count": null,
   "id": "cdc12e0f-d811-4d03-a164-73013ab0947a",
   "metadata": {
    "jupyter": {
     "outputs_hidden": false
    }
   },
   "outputs": [],
   "source": [
    "plt.close('all')\n",
    "fig = plt.figure()\n",
    "\n",
    "ax1 = plt.subplot2grid((3, 3), (0, 0))\n",
    "ax2 = plt.subplot2grid((3, 3), (0, 1), colspan=2)\n",
    "ax3 = plt.subplot2grid((3, 3), (1, 0), colspan=2, rowspan=2)\n",
    "ax4 = plt.subplot2grid((3, 3), (1, 2), rowspan=2)\n",
    "\n",
    "example_plot(ax1)\n",
    "example_plot(ax2)\n",
    "example_plot(ax3)\n",
    "example_plot(ax4)\n",
    "\n",
    "plt.tight_layout()"
   ]
  },
  {
   "cell_type": "markdown",
   "id": "32b333ca-a8f7-4d1f-b07e-a220a6a9f0b5",
   "metadata": {},
   "source": [
    "Although not thoroughly tested, it seems to work for subplots with\n",
    "aspect != \"auto\" (e.g., axes with images).\n",
    "\n"
   ]
  },
  {
   "cell_type": "code",
   "execution_count": null,
   "id": "a4d034aa-db79-4bf1-8c37-fbd923277513",
   "metadata": {
    "jupyter": {
     "outputs_hidden": false
    }
   },
   "outputs": [],
   "source": [
    "arr = np.arange(100).reshape((10, 10))\n",
    "\n",
    "plt.close('all')\n",
    "fig = plt.figure(figsize=(5, 4))\n",
    "\n",
    "ax = plt.subplot()\n",
    "im = ax.imshow(arr, interpolation=\"none\")\n",
    "\n",
    "plt.tight_layout()"
   ]
  },
  {
   "cell_type": "markdown",
   "id": "400685e2-6bb0-4abb-a06a-b87db82b3782",
   "metadata": {},
   "source": [
    "## Caveats\n",
    "\n",
    "* `pyplot.tight_layout` considers all artists on the axes by\n",
    "  default.  To remove an artist from the layout calculation you can call\n",
    "  `Artist.set_in_layout`.\n",
    "\n",
    "* `tight_layout` assumes that the extra space needed for artists is\n",
    "  independent of the original location of axes. This is often true, but there\n",
    "  are rare cases where it is not.\n",
    "\n",
    "* `pad=0` can clip some texts by a few pixels. This may be a bug or\n",
    "  a limitation of the current algorithm, and it is not clear why it\n",
    "  happens. Meanwhile, use of pad larger than 0.3 is recommended."
   ]
  },
  {
   "cell_type": "markdown",
   "id": "59b105ce-9140-4525-88e1-589107ed01cd",
   "metadata": {},
   "source": [
    "### Resources\n",
    "\n",
    "- https://matplotlib.org/stable/tutorials/intermediate/constrainedlayout_guide.html\n",
    "- https://matplotlib.org/stable/tutorials/intermediate/tight_layout_guide.html\n",
    "- https://matplotlib.org/stable/gallery/subplots_axes_and_figures/demo_constrained_layout.html\n",
    "- https://matplotlib.org/stable/gallery/subplots_axes_and_figures/demo_tight_layout.html"
   ]
  }
 ],
 "metadata": {
  "kernelspec": {
   "display_name": "Python 3 (ipykernel)",
   "language": "python",
   "name": "python3"
  },
  "language_info": {
   "codemirror_mode": {
    "name": "ipython",
    "version": 3
   },
   "file_extension": ".py",
   "mimetype": "text/x-python",
   "name": "python",
   "nbconvert_exporter": "python",
   "pygments_lexer": "ipython3",
   "version": "3.11.0"
  }
 },
 "nbformat": 4,
 "nbformat_minor": 5
}
