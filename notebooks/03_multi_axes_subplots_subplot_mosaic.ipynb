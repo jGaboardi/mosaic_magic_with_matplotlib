{
 "cells": [
  {
   "cell_type": "markdown",
   "id": "107bfc30-aa2b-4984-9219-7c5e38722c33",
   "metadata": {},
   "source": [
    "### Resources\n",
    "\n",
    "- https://matplotlib.org/stable/tutorials/intermediate/arranging_axes.html\n",
    "- https://matplotlib.org/stable/gallery/subplots_axes_and_figures/subplots_demo.html\n",
    "- https://matplotlib.org/stable/gallery/subplots_axes_and_figures/mosaic.html"
   ]
  },
  {
   "cell_type": "code",
   "execution_count": null,
   "id": "212f1db9-a0ca-450b-83b9-846dc40e1ff3",
   "metadata": {},
   "outputs": [],
   "source": []
  }
 ],
 "metadata": {
  "kernelspec": {
   "display_name": "Python 3 (ipykernel)",
   "language": "python",
   "name": "python3"
  },
  "language_info": {
   "codemirror_mode": {
    "name": "ipython",
    "version": 3
   },
   "file_extension": ".py",
   "mimetype": "text/x-python",
   "name": "python",
   "nbconvert_exporter": "python",
   "pygments_lexer": "ipython3",
   "version": "3.11.4"
  }
 },
 "nbformat": 4,
 "nbformat_minor": 5
}
