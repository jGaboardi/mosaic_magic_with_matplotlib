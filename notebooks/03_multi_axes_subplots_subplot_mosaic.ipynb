{
 "cells": [
  {
   "cell_type": "markdown",
   "id": "ccaeb0f5-acba-4edd-b275-3c642fa11fec",
   "metadata": {},
   "source": [
    "# Multi Axes Figures "
   ]
  },
  {
   "cell_type": "code",
   "execution_count": null,
   "id": "bd0d779a-8f54-4561-811d-0e53879766af",
   "metadata": {
    "jupyter": {
     "outputs_hidden": false
    }
   },
   "outputs": [],
   "source": [
    "%matplotlib widget\n",
    "\n",
    "import matplotlib.pyplot as plt\n",
    "import numpy as np\n",
    "\n",
    "\n",
    "# Helper function used for visualization in the following examples\n",
    "def identify_axes(ax_dict, fontsize=48):\n",
    "    \"\"\"\n",
    "    Helper to identify the Axes in the examples below.\n",
    "\n",
    "    Draws the label in a large font in the center of the Axes.\n",
    "    Works with the returns of subplot_mosaic or subplots.\n",
    "\n",
    "    Parameters\n",
    "    ----------\n",
    "    ax_dict : dict[str, Axes] or ndarray[Axes]\n",
    "        Mapping between the title / label and the Axes.\n",
    "        If ndarray, labels the indices\n",
    "    fontsize : int, optional\n",
    "        How big the label should be.\n",
    "    \"\"\"\n",
    "    if isinstance(ax_dict, np.ndarray):\n",
    "        ax_dict = {repr(idx): ax for idx, ax in np.ndenumerate(ax_dict)}\n",
    "    kw = dict(ha=\"center\", va=\"center\", fontsize=fontsize, color=\"darkgrey\")\n",
    "    for k, ax in ax_dict.items():\n",
    "        ax.text(0.5, 0.5, k, transform=ax.transAxes, **kw)\n",
    "\n",
    "# Some example data to display\n",
    "x = np.linspace(0, 2 * np.pi, 400)\n",
    "y = np.sin(x ** 2)"
   ]
  },
  {
   "cell_type": "markdown",
   "id": "fc052a2c-43d7-4541-bd2b-65054ccd885c",
   "metadata": {},
   "source": [
    "## subplots"
   ]
  },
  {
   "cell_type": "markdown",
   "id": "2bb39710-4679-426f-9d6f-27c41c3fe7e0",
   "metadata": {},
   "source": [
    "### Stacking subplots"
   ]
  },
  {
   "cell_type": "markdown",
   "id": "dccdcb1d-8e6d-4f6b-9857-9bd6e7fce888",
   "metadata": {},
   "source": [
    "The first two optional arguments of `.pyplot.subplots` define the number of\n",
    "rows and columns of the subplot grid.\n",
    "\n",
    "When stacking in one direction only, the returned ``axs`` is a 1D numpy array\n",
    "containing the list of created Axes."
   ]
  },
  {
   "cell_type": "code",
   "execution_count": null,
   "id": "ca185b41-6f5f-4458-bd5b-d2a79ef33f28",
   "metadata": {
    "jupyter": {
     "outputs_hidden": false
    }
   },
   "outputs": [],
   "source": [
    "fig, axs = plt.subplots(2)\n",
    "fig.suptitle('Vertically stacked subplots')\n",
    "axs[0].plot(x, y)\n",
    "axs[1].plot(x, -y)"
   ]
  },
  {
   "cell_type": "markdown",
   "id": "06e46e07-3ac6-4050-bd3e-74f75b105a3f",
   "metadata": {},
   "source": [
    "If you are creating just a few Axes, it's handy to unpack them immediately to\n",
    "dedicated variables for each Axes. That way, we can use ``ax1`` instead of\n",
    "the more verbose ``axs[0]``.\n",
    "\n"
   ]
  },
  {
   "cell_type": "code",
   "execution_count": null,
   "id": "2e186bee-1c90-420c-9d69-3000ca7d3c52",
   "metadata": {
    "jupyter": {
     "outputs_hidden": false
    }
   },
   "outputs": [],
   "source": [
    "fig, (ax1, ax2) = plt.subplots(2)\n",
    "fig.suptitle('Vertically stacked subplots')\n",
    "ax1.plot(x, y)\n",
    "ax2.plot(x, -y)"
   ]
  },
  {
   "cell_type": "markdown",
   "id": "522c66fc-587d-4052-9c9a-1ea7e5d376be",
   "metadata": {},
   "source": [
    "To obtain side-by-side subplots, pass parameters ``1, 2`` for one row and two\n",
    "columns.\n",
    "\n"
   ]
  },
  {
   "cell_type": "code",
   "execution_count": null,
   "id": "1ad906d6-9c2b-4a08-9b94-f3e837af2848",
   "metadata": {
    "jupyter": {
     "outputs_hidden": false
    }
   },
   "outputs": [],
   "source": [
    "fig, (ax1, ax2) = plt.subplots(1, 2)\n",
    "fig.suptitle('Horizontally stacked subplots')\n",
    "ax1.plot(x, y)\n",
    "ax2.plot(x, -y)"
   ]
  },
  {
   "cell_type": "markdown",
   "id": "f748af75-52f8-4216-9283-f9326bcfe617",
   "metadata": {},
   "source": [
    "### Grid of subplots"
   ]
  },
  {
   "cell_type": "markdown",
   "id": "4aacf230-7404-4ef5-97ec-a38145068d00",
   "metadata": {},
   "source": [
    "If we want a 2x2 grid we can use `Figure.subplots` which returns a 2D array\n",
    "of `Axes` which we can index into to do our plotting.\n",
    "\n"
   ]
  },
  {
   "cell_type": "code",
   "execution_count": null,
   "id": "a71d6427-8e62-404a-9db5-0fa184254b2a",
   "metadata": {},
   "outputs": [],
   "source": [
    "np.random.seed(19680801)\n",
    "hist_data = np.random.randn(1_500)\n",
    "\n",
    "\n",
    "fig = plt.figure(layout=\"constrained\")\n",
    "# Note: \"constrained\" is used to make the figure use a particular layout mangager\n",
    "# this helps make sure things like tick labels do not overlap\n",
    "# We will cover this and other similar tools in section 5\n",
    "\n",
    "ax_array = fig.subplots(2, 2, squeeze=False)\n",
    "\n",
    "ax_array[0, 0].bar([\"a\", \"b\", \"c\"], [5, 7, 9])\n",
    "ax_array[0, 1].plot([1, 2, 3])\n",
    "ax_array[1, 0].hist(hist_data, bins=\"auto\")\n",
    "ax_array[1, 1].imshow([[1, 2], [2, 1]])\n",
    "\n",
    "identify_axes(ax_array)"
   ]
  },
  {
   "cell_type": "markdown",
   "id": "a934de81-0ef6-4c49-94fb-d9ba2243ebfe",
   "metadata": {},
   "source": [
    "### Sharing axes"
   ]
  },
  {
   "cell_type": "markdown",
   "id": "a06fc625-9970-4ba9-a94f-12e2509c7def",
   "metadata": {},
   "source": [
    "By default, each Axes is scaled individually. Thus, if the ranges are\n",
    "different the tick values of the subplots do not align.\n",
    "\n",
    "Hint: Use the pan/zoom capabilities to get a more thourough understanding of how shared axes behave."
   ]
  },
  {
   "cell_type": "code",
   "execution_count": null,
   "id": "a2efc306-c22a-44bb-a687-dbf06f39e7ce",
   "metadata": {
    "jupyter": {
     "outputs_hidden": false
    }
   },
   "outputs": [],
   "source": [
    "fig, (ax1, ax2) = plt.subplots(2)\n",
    "fig.suptitle('Axes values are scaled individually by default')\n",
    "ax1.plot(x, y)\n",
    "ax2.plot(x + 1, -y)"
   ]
  },
  {
   "cell_type": "markdown",
   "id": "3b2b2feb-ec48-41c9-bb79-92ad34ae5dfd",
   "metadata": {},
   "source": [
    "You can use *sharex* or *sharey* to align the horizontal or vertical axis.\n",
    "\n"
   ]
  },
  {
   "cell_type": "code",
   "execution_count": null,
   "id": "66ed554d-5e13-4529-b3cd-85e186fd9829",
   "metadata": {
    "jupyter": {
     "outputs_hidden": false
    }
   },
   "outputs": [],
   "source": [
    "fig, (ax1, ax2) = plt.subplots(2, sharex=True)\n",
    "fig.suptitle('Aligning x-axis using sharex')\n",
    "ax1.plot(x, y)\n",
    "ax2.plot(x + 1, -y)"
   ]
  },
  {
   "cell_type": "markdown",
   "id": "daaf3f10-4b21-453a-bb1b-5b50d1b494af",
   "metadata": {},
   "source": [
    "Setting *sharex* or *sharey* to ``True`` enables global sharing across the\n",
    "whole grid, i.e. also the y-axes of vertically stacked subplots have the\n",
    "same scale when using ``sharey=True``.\n",
    "\n"
   ]
  },
  {
   "cell_type": "code",
   "execution_count": null,
   "id": "7ca192a0-8f13-4dd9-8573-4ec1119c9713",
   "metadata": {
    "jupyter": {
     "outputs_hidden": false
    }
   },
   "outputs": [],
   "source": [
    "fig, axs = plt.subplots(3, sharex=True, sharey=True)\n",
    "fig.suptitle('Sharing both axes')\n",
    "axs[0].plot(x, y ** 2)\n",
    "axs[1].plot(x, 0.3 * y, 'o')\n",
    "\n",
    "axs[2].plot(x, y, '+')"
   ]
  },
  {
   "cell_type": "markdown",
   "id": "accc71c4-341f-4ebf-90e6-7bb674527478",
   "metadata": {},
   "source": [
    "For subplots that are sharing axes one set of tick labels is enough. Tick\n",
    "labels of inner Axes are automatically removed by *sharex* and *sharey*.\n",
    "Still there remains an unused empty space between the subplots.\n",
    "\n",
    "To precisely control the positioning of the subplots, one can explicitly\n",
    "create a `GridSpec` with `Figure.add_gridspec`, and then call its\n",
    "`GridSpecBase.subplots` method.  For example, we can reduce the height\n",
    "between vertical subplots using ``add_gridspec(hspace=0)``.\n",
    "\n",
    "`label_outer` is a handy method to remove labels and ticks from subplots\n",
    "that are not at the edge of the grid.\n",
    "\n"
   ]
  },
  {
   "cell_type": "code",
   "execution_count": null,
   "id": "b8a538fe-f6bf-4f48-8292-ccf5eb80c815",
   "metadata": {
    "jupyter": {
     "outputs_hidden": false
    }
   },
   "outputs": [],
   "source": [
    "fig = plt.figure()\n",
    "gs = fig.add_gridspec(3, hspace=0)\n",
    "axs = gs.subplots(sharex=True, sharey=True)\n",
    "fig.suptitle('Sharing both axes')\n",
    "axs[0].plot(x, y ** 2)\n",
    "axs[1].plot(x, 0.3 * y, 'o')\n",
    "axs[2].plot(x, y, '+')\n",
    "\n",
    "# Hide x labels and tick labels for all but bottom plot.\n",
    "for ax in axs:\n",
    "    ax.label_outer()"
   ]
  },
  {
   "cell_type": "markdown",
   "id": "ad1f06e4-ad51-467f-bad5-40e8a6e16feb",
   "metadata": {},
   "source": [
    "Apart from ``True`` and ``False``, both *sharex* and *sharey* accept the\n",
    "values 'row' and 'col' to share the values only per row or column.\n",
    "\n"
   ]
  },
  {
   "cell_type": "code",
   "execution_count": null,
   "id": "a992c7c1-486a-4824-80de-633f06fa46f6",
   "metadata": {
    "jupyter": {
     "outputs_hidden": false
    }
   },
   "outputs": [],
   "source": [
    "fig = plt.figure()\n",
    "gs = fig.add_gridspec(2, 2, hspace=0, wspace=0)\n",
    "(ax1, ax2), (ax3, ax4) = gs.subplots(sharex='col', sharey='row')\n",
    "fig.suptitle('Sharing x per column, y per row')\n",
    "ax1.plot(x, y)\n",
    "ax2.plot(x, y**2, 'tab:orange')\n",
    "ax3.plot(x + 1, -y, 'tab:green')\n",
    "ax4.plot(x + 2, -y**2, 'tab:red')\n",
    "\n",
    "for ax in fig.get_axes():\n",
    "    ax.label_outer()"
   ]
  },
  {
   "cell_type": "markdown",
   "id": "c02fb370-8cd3-425d-9cf4-585eaa01f7fb",
   "metadata": {},
   "source": [
    "If you want a more complex sharing structure, you can first create the\n",
    "grid of axes with no sharing, and then call `Axes.sharex` or\n",
    "`Axes.sharey` to add sharing info a posteriori.\n",
    "\n"
   ]
  },
  {
   "cell_type": "code",
   "execution_count": null,
   "id": "d50bf3e6-71b0-460f-9e92-beeabf7bbf0c",
   "metadata": {
    "jupyter": {
     "outputs_hidden": false
    }
   },
   "outputs": [],
   "source": [
    "fig, axs = plt.subplots(2, 2)\n",
    "axs[0, 0].plot(x, y)\n",
    "axs[0, 0].set_title(\"main\")\n",
    "axs[1, 0].plot(x, y**2)\n",
    "axs[1, 0].set_title(\"shares x with main\")\n",
    "axs[1, 0].sharex(axs[0, 0])\n",
    "axs[0, 1].plot(x + 1, y + 1)\n",
    "axs[0, 1].set_title(\"unrelated\")\n",
    "axs[1, 1].plot(x + 2, y + 2)\n",
    "axs[1, 1].set_title(\"also unrelated\")\n",
    "fig.tight_layout()"
   ]
  },
  {
   "cell_type": "markdown",
   "id": "71d5ddd3-7d8b-4b3e-a0a6-a90a3634dbd6",
   "metadata": {},
   "source": [
    "### Polar axes"
   ]
  },
  {
   "cell_type": "markdown",
   "id": "8e35ee02-7543-45f3-b4be-b6753fc3af0a",
   "metadata": {},
   "source": [
    "The parameter *subplot_kw* of `pyplot.subplots` controls the subplot\n",
    "properties (see also `Figure.add_subplot`). In particular, this can be used\n",
    "to create a grid of polar Axes."
   ]
  },
  {
   "cell_type": "code",
   "execution_count": null,
   "id": "c381549f-bdc2-4c58-ba0e-1fd2fa5d3aa4",
   "metadata": {
    "jupyter": {
     "outputs_hidden": false
    }
   },
   "outputs": [],
   "source": [
    "fig, (ax1, ax2) = plt.subplots(1, 2, subplot_kw=dict(projection='polar'))\n",
    "ax1.plot(x, y)\n",
    "ax2.plot(x, y ** 2)\n",
    "\n",
    "plt.show()"
   ]
  },
  {
   "cell_type": "markdown",
   "id": "acb72721-e169-41bf-928b-de1f9f4b478b",
   "metadata": {},
   "source": [
    "## Subplot mosaic"
   ]
  },
  {
   "cell_type": "markdown",
   "id": "f2688cc0-2942-4c18-9b09-21ed1a0464b6",
   "metadata": {},
   "source": [
    "\n",
    "Laying out Axes in a Figure in a non-uniform grid can be both tedious\n",
    "and verbose.  For dense, even grids we have `subplots` but for\n",
    "more complex layouts, such as Axes that span multiple columns / rows\n",
    "of the layout or leave some areas of the Figure blank, you can use\n",
    "`GridSpec` (We will explore this in more depth in the next section) or\n",
    "manually place your axes.  `subplot_mosaic` aims to provide an\n",
    "interface to visually lay out your axes (as either ASCII art or nested\n",
    "lists) to streamline this process.\n",
    "\n",
    "This interface naturally supports naming your axes.\n",
    "`subplot_mosaic` returns a dictionary keyed on the\n",
    "labels used to lay out the Figure.  By returning data structures with\n",
    "names, it is easier to write plotting code that is independent of the\n",
    "Figure layout.\n"
   ]
  },
  {
   "cell_type": "markdown",
   "id": "437bad93-9192-4877-be9f-76a166555cfc",
   "metadata": {},
   "source": [
    "Using `subplot_mosaic` we can produce the same figure as the 2x2 grid example above but give the\n",
    "axes semantic names\n",
    "\n"
   ]
  },
  {
   "cell_type": "code",
   "execution_count": null,
   "id": "2e7b03d8-7ca0-47ab-b319-d5df8b022f1a",
   "metadata": {},
   "outputs": [],
   "source": [
    "fig = plt.figure(layout=\"constrained\")\n",
    "ax_dict = fig.subplot_mosaic(\n",
    "    [\n",
    "        [\"bar\", \"plot\"],\n",
    "        [\"hist\", \"image\"],\n",
    "    ],\n",
    ")\n",
    "ax_dict[\"bar\"].bar([\"a\", \"b\", \"c\"], [5, 7, 9])\n",
    "ax_dict[\"plot\"].plot([1, 2, 3])\n",
    "ax_dict[\"hist\"].hist(hist_data)\n",
    "ax_dict[\"image\"].imshow([[1, 2], [2, 1]])\n",
    "identify_axes(ax_dict)"
   ]
  },
  {
   "cell_type": "markdown",
   "id": "a5bf409d-be54-494d-86d7-675a6a3a7d04",
   "metadata": {},
   "source": [
    "A key difference between `subplots` and\n",
    "`subplot_mosaic` is the return value. While the former\n",
    "returns an array for index access, the latter returns a dictionary\n",
    "mapping the labels to the `Axes` instances created\n",
    "\n"
   ]
  },
  {
   "cell_type": "code",
   "execution_count": null,
   "id": "06885193-5728-4f94-a3a3-059b1adf0506",
   "metadata": {
    "jupyter": {
     "outputs_hidden": false
    }
   },
   "outputs": [],
   "source": [
    "print(ax_dict)"
   ]
  },
  {
   "cell_type": "markdown",
   "id": "407b5afb-6838-47db-8eb2-1404ad583f9b",
   "metadata": {},
   "source": [
    "#### Exercise: Make an alignment chart\n"
   ]
  },
  {
   "cell_type": "markdown",
   "id": "e2f54c7b-c677-4eb6-b2bc-914da14252fb",
   "metadata": {},
   "source": [
    "### String short-hand\n",
    "\n",
    "By restricting our axes labels to single characters we can\n",
    "\"draw\" the Axes we want as \"ASCII art\".  The following\n",
    "\n"
   ]
  },
  {
   "cell_type": "code",
   "execution_count": null,
   "id": "40ca9eb6-b8e5-4d8b-81fd-866379aeae2e",
   "metadata": {
    "jupyter": {
     "outputs_hidden": false
    }
   },
   "outputs": [],
   "source": [
    "mosaic = \"\"\"\n",
    "    AB\n",
    "    CD\n",
    "    \"\"\""
   ]
  },
  {
   "cell_type": "markdown",
   "id": "eeab0972-c990-4a8e-9783-8f8e6d5af8c9",
   "metadata": {},
   "source": [
    "will give us 4 Axes laid out in a 2x2 grid and generates the same\n",
    "figure mosaic as above (but now labeled with ``{\"A\", \"B\", \"C\",\n",
    "\"D\"}`` rather than ``{\"bar\", \"plot\", \"hist\", \"image\"}``).\n",
    "\n"
   ]
  },
  {
   "cell_type": "code",
   "execution_count": null,
   "id": "ec3de410-8ea5-4f28-8943-7c5985e94e58",
   "metadata": {
    "jupyter": {
     "outputs_hidden": false
    }
   },
   "outputs": [],
   "source": [
    "fig = plt.figure(layout=\"constrained\")\n",
    "ax_dict = fig.subplot_mosaic(mosaic)\n",
    "identify_axes(ax_dict)"
   ]
  },
  {
   "cell_type": "markdown",
   "id": "2e5dd287-953e-4127-b5e7-b0239bbfdd08",
   "metadata": {},
   "source": [
    "Alternatively, you can use the more compact string notation\n",
    "\n"
   ]
  },
  {
   "cell_type": "code",
   "execution_count": null,
   "id": "56e7b2f0-f472-45e7-a4bc-c885930e4596",
   "metadata": {
    "jupyter": {
     "outputs_hidden": false
    }
   },
   "outputs": [],
   "source": [
    "mosaic = \"AB;CD\""
   ]
  },
  {
   "cell_type": "markdown",
   "id": "c62d3130-f823-498b-a03d-7f39aa153c55",
   "metadata": {},
   "source": [
    "will give you the same composition, where the ``\";\"`` is used\n",
    "as the row separator instead of newline.\n",
    "\n"
   ]
  },
  {
   "cell_type": "code",
   "execution_count": null,
   "id": "eb0781d6-8a9e-47f5-9d33-c17a014daf15",
   "metadata": {
    "jupyter": {
     "outputs_hidden": false
    }
   },
   "outputs": [],
   "source": [
    "fig = plt.figure(layout=\"constrained\")\n",
    "ax_dict = fig.subplot_mosaic(mosaic)\n",
    "identify_axes(ax_dict)"
   ]
  },
  {
   "cell_type": "markdown",
   "id": "cbdd712e-7821-46c1-be29-6410a13f75a6",
   "metadata": {},
   "source": [
    "### Axes spanning multiple rows/columns\n",
    "\n",
    "Something we can do with `subplot_mosaic`, that we cannot\n",
    "do with `subplots`, is to specify that an Axes should span\n",
    "several rows or columns.\n",
    "\n"
   ]
  },
  {
   "cell_type": "markdown",
   "id": "5b07ef80-19fd-4a32-9a1b-06f516f6ee50",
   "metadata": {},
   "source": [
    "If we want to re-arrange our four Axes to have ``\"C\"`` be a horizontal\n",
    "span on the bottom and ``\"D\"`` be a vertical span on the right we would do\n",
    "\n"
   ]
  },
  {
   "cell_type": "code",
   "execution_count": null,
   "id": "df24b3b0-261d-4e6c-b832-8497d6ef4879",
   "metadata": {
    "jupyter": {
     "outputs_hidden": false
    }
   },
   "outputs": [],
   "source": [
    "axd = plt.figure(layout=\"constrained\").subplot_mosaic(\n",
    "    \"\"\"\n",
    "    ABD\n",
    "    CCD\n",
    "    \"\"\"\n",
    ")\n",
    "identify_axes(axd)"
   ]
  },
  {
   "cell_type": "markdown",
   "id": "d5696e03-c27f-4327-a5c7-d68f1c5ec3e3",
   "metadata": {},
   "source": [
    "If we do not want to fill in all the spaces in the Figure with Axes,\n",
    "we can specify some spaces in the grid to be blank\n",
    "\n"
   ]
  },
  {
   "cell_type": "code",
   "execution_count": null,
   "id": "6def5079-9dba-4916-b54e-1ca2cfca3091",
   "metadata": {
    "jupyter": {
     "outputs_hidden": false
    }
   },
   "outputs": [],
   "source": [
    "axd = plt.figure(layout=\"constrained\").subplot_mosaic(\n",
    "    \"\"\"\n",
    "    A.C\n",
    "    BBB\n",
    "    .D.\n",
    "    \"\"\"\n",
    ")\n",
    "identify_axes(axd)"
   ]
  },
  {
   "cell_type": "markdown",
   "id": "dedc9de5-cfbe-4858-ad87-bce9668c00ee",
   "metadata": {},
   "source": [
    "If we prefer to use another character (rather than a period ``\".\"``)\n",
    "to mark the empty space, we can use *empty_sentinel* to specify the\n",
    "character to use.\n",
    "\n"
   ]
  },
  {
   "cell_type": "code",
   "execution_count": null,
   "id": "42fd7633-34c4-4907-8fd6-e84bead5896f",
   "metadata": {
    "jupyter": {
     "outputs_hidden": false
    }
   },
   "outputs": [],
   "source": [
    "axd = plt.figure(layout=\"constrained\").subplot_mosaic(\n",
    "    \"\"\"\n",
    "    aX\n",
    "    Xb\n",
    "    \"\"\",\n",
    "    empty_sentinel=\"X\",\n",
    ")\n",
    "identify_axes(axd)"
   ]
  },
  {
   "cell_type": "markdown",
   "id": "1a66e7a0-211d-47c9-974a-80a57da35dea",
   "metadata": {},
   "source": [
    "Internally there is no meaning attached to the letters we use, any\n",
    "Unicode code point is valid!\n",
    "\n"
   ]
  },
  {
   "cell_type": "code",
   "execution_count": null,
   "id": "679ac813-cf65-4179-8793-e6db9afe6f2f",
   "metadata": {
    "jupyter": {
     "outputs_hidden": false
    }
   },
   "outputs": [],
   "source": [
    "axd = plt.figure(layout=\"constrained\").subplot_mosaic(\n",
    "    \"\"\"αб\n",
    "       ℝ☢\"\"\"\n",
    ")\n",
    "identify_axes(axd)"
   ]
  },
  {
   "cell_type": "markdown",
   "id": "3d4a76ce-81a4-4c49-b279-7d81f4c18e4d",
   "metadata": {},
   "source": [
    "It is not recommended to use white space as either a label or an\n",
    "empty sentinel with the string shorthand because it may be stripped\n",
    "while processing the input."
   ]
  },
  {
   "cell_type": "markdown",
   "id": "b5364f6f-d0fe-4ff6-82d0-e04c09d3179e",
   "metadata": {},
   "source": [
    "### Controlling width/height of Axes\n",
    "\n",
    "This feature is built on top of `gridspec` and you can pass the\n",
    "keyword arguments through to the underlying `GridSpec`\n",
    "(the same as `subplots`).\n",
    "\n",
    "In this case we want to use the input to specify the arrangement,\n",
    "but set the relative widths of the rows / columns.  For convenience,\n",
    "`GridSpec`'s *height_ratios* and *width_ratios* are exposed in the\n",
    "`subplot_mosaic` calling sequence."
   ]
  },
  {
   "cell_type": "code",
   "execution_count": null,
   "id": "2ead0294-ee32-4c40-a386-8335a7feb979",
   "metadata": {
    "jupyter": {
     "outputs_hidden": false
    }
   },
   "outputs": [],
   "source": [
    "axd = plt.figure(layout=\"constrained\").subplot_mosaic(\n",
    "    \"\"\"\n",
    "    .a.\n",
    "    bAc\n",
    "    .d.\n",
    "    \"\"\",\n",
    "    # set the height ratios between the rows\n",
    "    height_ratios=[1, 3.5, 1],\n",
    "    # set the width ratios between the columns\n",
    "    width_ratios=[1, 3.5, 1],\n",
    ")\n",
    "identify_axes(axd)"
   ]
  },
  {
   "cell_type": "markdown",
   "id": "264fee3c-68e8-47eb-b144-6b902ec9190a",
   "metadata": {},
   "source": [
    "### Subplot arguments"
   ]
  },
  {
   "cell_type": "markdown",
   "id": "85f20785-09f8-4f16-8838-3686b185cbba",
   "metadata": {},
   "source": [
    "We can also pass through arguments used to create the subplots\n",
    "(again, the same as `subplots`) which will apply to all\n",
    "of the Axes created.\n",
    "\n"
   ]
  },
  {
   "cell_type": "code",
   "execution_count": null,
   "id": "b6e61660-5f3a-4bf1-8c77-030004f1f2d0",
   "metadata": {
    "jupyter": {
     "outputs_hidden": false
    }
   },
   "outputs": [],
   "source": [
    "axd = plt.figure(layout=\"constrained\").subplot_mosaic(\n",
    "    \"AB\", subplot_kw={\"projection\": \"polar\"}\n",
    ")\n",
    "identify_axes(axd)"
   ]
  },
  {
   "cell_type": "markdown",
   "id": "9991e6ef-7852-46b9-a5ff-ac9b0ad79a71",
   "metadata": {},
   "source": [
    "### Per-Axes subplot keyword arguments\n",
    "\n",
    "If you need to control the parameters passed to each subplot individually use\n",
    "*per_subplot_kw* to pass a mapping between the Axes identifiers (or\n",
    "tuples of Axes identifiers) to dictionaries of keywords to be passed.\n",
    "\n",
    "(New in Matplotlib 3.7)\n",
    "\n",
    "\n"
   ]
  },
  {
   "cell_type": "code",
   "execution_count": null,
   "id": "006857b9-cede-4d08-a81a-bebe45531a14",
   "metadata": {
    "jupyter": {
     "outputs_hidden": false
    }
   },
   "outputs": [],
   "source": [
    "fig, axd = plt.subplot_mosaic(\n",
    "    \"AB;CD\",\n",
    "    per_subplot_kw={\n",
    "        \"A\": {\"projection\": \"polar\"},\n",
    "        (\"C\", \"D\"): {\"xscale\": \"log\"}\n",
    "    },\n",
    ")\n",
    "identify_axes(axd)"
   ]
  },
  {
   "cell_type": "markdown",
   "id": "d61aaf2d-f4d9-47d1-921b-1d8c32b120c2",
   "metadata": {},
   "source": [
    "If the layout is specified with the string short-hand, then we know the\n",
    "Axes labels will be one character and can unambiguously interpret longer\n",
    "strings in *per_subplot_kw* to specify a set of Axes to apply the\n",
    "keywords to:\n",
    "\n"
   ]
  },
  {
   "cell_type": "code",
   "execution_count": null,
   "id": "2b9897b7-955b-4d57-9b55-86146ef4aabd",
   "metadata": {
    "jupyter": {
     "outputs_hidden": false
    }
   },
   "outputs": [],
   "source": [
    "fig, axd = plt.subplot_mosaic(\n",
    "    \"AB;CD\",\n",
    "    per_subplot_kw={\n",
    "        \"AD\": {\"projection\": \"polar\"},\n",
    "        \"BC\": {\"facecolor\": \".9\"}\n",
    "    },\n",
    ")\n",
    "identify_axes(axd)"
   ]
  },
  {
   "cell_type": "markdown",
   "id": "daecf4fd-eb79-44cd-86b8-b47e26a76f49",
   "metadata": {},
   "source": [
    "If *subplot_kw* and *per_subplot_kw* are used together, then they are\n",
    "merged with *per_subplot_kw* taking priority:\n",
    "\n"
   ]
  },
  {
   "cell_type": "code",
   "execution_count": null,
   "id": "8fa9b904-38b6-401d-863c-22b0591f230b",
   "metadata": {
    "editable": true,
    "jupyter": {
     "outputs_hidden": false
    },
    "slideshow": {
     "slide_type": ""
    },
    "tags": []
   },
   "outputs": [],
   "source": [
    "axd = plt.figure(layout=\"constrained\").subplot_mosaic(\n",
    "    \"AB;CD\",\n",
    "    subplot_kw={\"facecolor\": \"xkcd:tangerine\"},\n",
    "    per_subplot_kw={\n",
    "        \"B\": {\"facecolor\": \"xkcd:water blue\"},\n",
    "        \"D\": {\"projection\": \"polar\", \"facecolor\": \"w\"},\n",
    "    }\n",
    ")\n",
    "identify_axes(axd)"
   ]
  },
  {
   "cell_type": "markdown",
   "id": "40f426e0-1b0c-4685-8a61-83e72311b547",
   "metadata": {},
   "source": [
    "### Nested and alternative keys"
   ]
  },
  {
   "cell_type": "markdown",
   "id": "5fad7ea2-e6b9-46ae-ae4c-9126c41a3e86",
   "metadata": {},
   "source": [
    "Everything we can do with the string shorthand we can also do when\n",
    "passing in a list (internally we convert the string shorthand to a nested\n",
    "list), for example using spans, blanks, and *gridspec_kw*:"
   ]
  },
  {
   "cell_type": "code",
   "execution_count": null,
   "id": "6aa369be-6148-4dd4-894c-5a0fd41044f3",
   "metadata": {
    "jupyter": {
     "outputs_hidden": false
    }
   },
   "outputs": [],
   "source": [
    "axd = plt.figure(layout=\"constrained\").subplot_mosaic(\n",
    "    [\n",
    "        [\"main\", \"zoom\"],\n",
    "        [\"main\", \"BLANK\"],\n",
    "    ],\n",
    "    empty_sentinel=\"BLANK\",\n",
    "    width_ratios=[2, 1],\n",
    ")\n",
    "identify_axes(axd)"
   ]
  },
  {
   "cell_type": "markdown",
   "id": "81573362-1af1-47ae-88d1-ea83ae3023e5",
   "metadata": {},
   "source": [
    "In addition, using the list input we can specify nested mosaics.  Any element\n",
    "of the inner list can be another set of nested lists:\n",
    "\n"
   ]
  },
  {
   "cell_type": "code",
   "execution_count": null,
   "id": "897ebe18-0cd6-4b00-a5c4-d1049f8f826f",
   "metadata": {
    "jupyter": {
     "outputs_hidden": false
    }
   },
   "outputs": [],
   "source": [
    "inner = [\n",
    "    [\"inner A\"],\n",
    "    [\"inner B\"],\n",
    "]\n",
    "\n",
    "outer_nested_mosaic = [\n",
    "    [\"main\", inner],\n",
    "    [\"bottom\", \"bottom\"],\n",
    "]\n",
    "axd = plt.figure(layout=\"constrained\").subplot_mosaic(\n",
    "    outer_nested_mosaic, empty_sentinel=None\n",
    ")\n",
    "identify_axes(axd, fontsize=36)"
   ]
  },
  {
   "cell_type": "markdown",
   "id": "149ad19c-7d36-40cd-8597-a00fa8e41a9a",
   "metadata": {},
   "source": [
    "We can also pass in a 2D NumPy array to do things like\n",
    "\n"
   ]
  },
  {
   "cell_type": "code",
   "execution_count": null,
   "id": "75bdd908-ebfa-4120-8919-88450415a28d",
   "metadata": {
    "jupyter": {
     "outputs_hidden": false
    }
   },
   "outputs": [],
   "source": [
    "mosaic = np.zeros((4, 4), dtype=int)\n",
    "for j in range(4):\n",
    "    mosaic[j, j] = j + 1\n",
    "axd = plt.figure(layout=\"constrained\").subplot_mosaic(\n",
    "    mosaic,\n",
    "    empty_sentinel=0,\n",
    ")\n",
    "identify_axes(axd)"
   ]
  },
  {
   "cell_type": "code",
   "execution_count": null,
   "id": "71c2537e-bb94-463e-be38-186f2b554510",
   "metadata": {},
   "outputs": [],
   "source": [
    "[a for a in np.nditer(np.array([[1,2],[3,4]]))]"
   ]
  },
  {
   "cell_type": "markdown",
   "id": "525d4b35-d458-460d-8866-be5d66862589",
   "metadata": {},
   "source": [
    "### Exercise: make the logo for the tutorial\n",
    "\n",
    "<img src='../logo.png'></img>\n",
    "\n",
    "The functions which add actual content to axes are provided.\n",
    "\n",
    "Hint: use `identify_axes` for the axes with words (other than the logo)\n",
    "\n",
    "Your random data will be different, so the image in the upper right and the histogram will be slightly different."
   ]
  },
  {
   "cell_type": "code",
   "execution_count": null,
   "id": "d2008aea-a368-483a-9e47-4493b8eeef72",
   "metadata": {},
   "outputs": [],
   "source": [
    "from PIL import Image\n",
    "\n",
    "def plot_image(ax):\n",
    "    ax.imshow(np.random.random((20, 20)))\n",
    "    ax.set(yticklabels=[], xticklabels=[])\n",
    "\n",
    "def plot_hist(ax):\n",
    "    hist_data = np.random.randn(1_500)\n",
    "    ax.hist(hist_data)\n",
    "    ax.set(yticklabels=[], xticklabels=[])\n",
    "    \n",
    "\n",
    "def plot_mpl_logo(ax):\n",
    "    logo = Image.open(\"../logo2.png\")\n",
    "    ax.imshow(logo)\n",
    "    ax.set(yticklabels=[], xticklabels=[])\n"
   ]
  },
  {
   "cell_type": "markdown",
   "id": "ec797f46-58cd-43cc-8d46-7a5c84892b19",
   "metadata": {},
   "source": [
    "### Challenge Exercise\n",
    "\n",
    "Create a large (>12) array of axes with meaningful names\n",
    "\n",
    "Some examples:\n",
    "\n",
    "- A periodic table\n",
    "- A stylized (square) map of the US or Europe"
   ]
  },
  {
   "cell_type": "markdown",
   "id": "79175ab3-3aaa-48c3-8f27-9b3e0ae731ec",
   "metadata": {},
   "source": [
    "### Resources\n",
    "\n",
    "- https://matplotlib.org/stable/tutorials/intermediate/arranging_axes.html\n",
    "- https://matplotlib.org/stable/gallery/subplots_axes_and_figures/subplots_demo.html\n",
    "- https://matplotlib.org/stable/gallery/subplots_axes_and_figures/mosaic.html"
   ]
  }
 ],
 "metadata": {
  "kernelspec": {
   "display_name": "Python 3 (ipykernel)",
   "language": "python",
   "name": "python3"
  },
  "language_info": {
   "codemirror_mode": {
    "name": "ipython",
    "version": 3
   },
   "file_extension": ".py",
   "mimetype": "text/x-python",
   "name": "python",
   "nbconvert_exporter": "python",
   "pygments_lexer": "ipython3",
   "version": "3.11.0"
  }
 },
 "nbformat": 4,
 "nbformat_minor": 5
}
