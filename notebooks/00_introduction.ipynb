{
 "cells": [
  {
   "cell_type": "markdown",
   "id": "7290d017-b3c6-49af-9203-00e21af3af57",
   "metadata": {},
   "source": [
    "# Introduction"
   ]
  },
  {
   "cell_type": "markdown",
   "id": "750f427d-d56b-4b94-845b-d729f157c9f4",
   "metadata": {},
   "source": [
    "\n",
    "\n",
    "\n",
    "00: Write intro\n",
    "08: Write Conclusions/wrap-up\n",
    "\n",
    "Austin:\n",
    "All:\n",
    "- Ensure notebooks run from top to bottom, include `%matplotlib widget` and all helper functions required, etc.\n",
    "- Look for opportunities for more exercises\n",
    "- Exercise keys? autofill?\n",
    "- Intro text to each chapter"
   ]
  },
  {
   "cell_type": "code",
   "execution_count": null,
   "id": "a9ef8600-80a0-44a4-9898-bb8633f5b8d0",
   "metadata": {},
   "outputs": [],
   "source": []
  },
  {
   "cell_type": "code",
   "execution_count": null,
   "id": "f46f3381-f8d6-43e8-a322-5ddbe3c841fe",
   "metadata": {},
   "outputs": [],
   "source": []
  }
 ],
 "metadata": {
  "kernelspec": {
   "display_name": "Python 3 (ipykernel)",
   "language": "python",
   "name": "python3"
  },
  "language_info": {
   "codemirror_mode": {
    "name": "ipython",
    "version": 3
   },
   "file_extension": ".py",
   "mimetype": "text/x-python",
   "name": "python",
   "nbconvert_exporter": "python",
   "pygments_lexer": "ipython3",
   "version": "3.11.0"
  }
 },
 "nbformat": 4,
 "nbformat_minor": 5
}
