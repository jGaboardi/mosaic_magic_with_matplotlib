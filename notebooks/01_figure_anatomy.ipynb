{
 "cells": [
  {
   "cell_type": "markdown",
   "id": "a99e0665-9e4c-4f7d-a197-941e31a0021b",
   "metadata": {
    "slideshow": {
     "slide_type": "slide"
    },
    "tags": []
   },
   "source": [
    "# Anatomy of a Figure\n",
    "\n",
    "This introduction is based on the [Anatomy of a Figure](https://matplotlib.org/stable/gallery/showcase/anatomy.html) example from the Matplotlib documentation.\n",
    "\n",
    "I have broken it up with some additional text describing the individual parts, and establishing some of the common terminology."
   ]
  },
  {
   "cell_type": "code",
   "execution_count": null,
   "id": "6356ffb0-b532-446b-afa6-fb70c9393975",
   "metadata": {
    "slideshow": {
     "slide_type": "skip"
    },
    "tags": []
   },
   "outputs": [],
   "source": [
    "%matplotlib widget"
   ]
  },
  {
   "cell_type": "markdown",
   "id": "ad0b7205-3976-4c28-9ebe-6314c2bdc247",
   "metadata": {
    "slideshow": {
     "slide_type": "slide"
    },
    "tags": []
   },
   "source": [
    "## Figure\n",
    "\n",
    "The `Figure` is the canvas on which we will add all other aspects of the figure.\n",
    "\n",
    "Most examples will use the variable name `fig` for a `Figure`.\n",
    "\n",
    "Right now it is a blank white square, with nothing to do.\n",
    "However, as we add to it, this first panel will remain interactive and get added to in upcoming cells.\n",
    "\n",
    "The generic term for things that get drawn on a figure (even including the figure itself) is `Artist`."
   ]
  },
  {
   "cell_type": "code",
   "execution_count": null,
   "id": "e1239609-e05b-4eba-b314-84b0eba35a7e",
   "metadata": {},
   "outputs": [],
   "source": [
    "import matplotlib.pyplot as plt\n",
    "\n",
    "\n",
    "fig = plt.figure(figsize=(7.5, 7.5))"
   ]
  },
  {
   "cell_type": "markdown",
   "id": "371e6544-ac62-416f-b4e1-251120bb5b27",
   "metadata": {
    "slideshow": {
     "slide_type": "slide"
    },
    "tags": []
   },
   "source": [
    "## Axes\n",
    "\n",
    "The next thing we need is an `Axes`.\n",
    "\n",
    "The `Axes` are a window into the \"data coordinates\".\n",
    "\n",
    "All plotting methods insert additional `Artist`s into the `Axes`.\n",
    "\n",
    "Here we are using `fig.add_axes()` to accomplish the task, but the main part of this tutorial is to explore all the ways to add `Axes` to `Figures`.\n",
    "\n",
    "### Axes vs Axis\n",
    "\n",
    "Despite their similar names, `Axes` and `Axis` are conceptually distinct in Matplotlib.\n",
    "\n",
    "This can get confusing, particularly in spoken English, where the vowel sounds blend together.\n",
    "I will endeavor to enounciate the vowel sound when talking about this two.\n",
    "\n",
    "An `Axes` contains two* `Axis` objects, called the `xaxis` and `yaxis`\n",
    "\n",
    "The `Axis` is responsible for the aspects of the individual axis that are independent of the other axis.\n",
    "This includes the (major/minor) tick marks, tick labels, and axis labels.\n",
    "\n",
    "The `Axes` is responsible for anything that requires _both_ `Axis` objects.\n",
    "In fact, most often, you directly interact with the `Axes`, allowing it to dispatch to the appropriate `Axis`.\n",
    "\n",
    "\n",
    "\\* two, by default, additional `Axis` objects can be added for e.g. 3D projections"
   ]
  },
  {
   "cell_type": "code",
   "execution_count": null,
   "id": "9a3e8a21-e454-49c5-a7d3-e53c8df607e1",
   "metadata": {},
   "outputs": [],
   "source": [
    "ax = fig.add_axes([0.2, 0.17, 0.68, 0.7], aspect=1)\n",
    "fig"
   ]
  },
  {
   "cell_type": "markdown",
   "id": "601954d1-f264-4fae-9c0c-71011760db33",
   "metadata": {
    "slideshow": {
     "slide_type": "slide"
    },
    "tags": []
   },
   "source": [
    "## Axis locators, formatters, limits\n",
    "\n",
    "Okay, so now it's not _just_ a white box, but it still is a black square in a white void with some numbers.\n",
    "\n",
    "`Locator`s and `Formatter`s allow for granular control over where the major and minor ticks.\n",
    "\n",
    "Here, we are setting up the x axis and y axis to have major ticks on integers and minor ticks every 0.25.\n",
    "On the x-axis (only) we are also adding labels for the minor ticks.\n",
    "\n",
    "The calls to `tick_params` adjust the text size/tick sizes to be legible.\n",
    "\n",
    "We also set the view limits to 0-4 on both axes.\n",
    "\n",
    "Finally, we add a grid, which puts lines where major ticks are located."
   ]
  },
  {
   "cell_type": "code",
   "execution_count": null,
   "id": "fe8286b2-a1a9-4df2-838c-53eaed92a8e2",
   "metadata": {},
   "outputs": [],
   "source": [
    "from matplotlib.ticker import AutoMinorLocator, MultipleLocator\n",
    "\n",
    "ax.xaxis.set_major_locator(MultipleLocator(1.000))\n",
    "ax.xaxis.set_minor_locator(AutoMinorLocator(4))\n",
    "ax.yaxis.set_major_locator(MultipleLocator(1.000))\n",
    "ax.yaxis.set_minor_locator(AutoMinorLocator(4))\n",
    "ax.xaxis.set_minor_formatter(\"{x:.2f}\")\n",
    "\n",
    "ax.tick_params(which='major', width=1.0, length=10, labelsize=14)\n",
    "ax.tick_params(which='minor', width=1.0, length=5, labelsize=10, labelcolor=\".75\")\n",
    "\n",
    "ax.set_xlim(0, 4)\n",
    "ax.set_ylim(0, 4)\n",
    "\n",
    "ax.grid(True)\n",
    "fig"
   ]
  },
  {
   "cell_type": "markdown",
   "id": "1c95e0f7-d348-4240-9440-bd614d2fc420",
   "metadata": {
    "slideshow": {
     "slide_type": "slide"
    },
    "tags": []
   },
   "source": [
    "## Actually plotting data\n",
    "\n",
    "Since this is an example mostly about the parts of the plot, we just have some scaled/translated `cos` funcs and some random data.\n",
    "\n",
    "Which kinds of plots you will regularly use will vary. Each plotting function is very customizable.\n",
    "\n",
    "Here we have two lines and a set of scatter points, using two of the most common plotting functions, `plot` and `scatter`."
   ]
  },
  {
   "cell_type": "code",
   "execution_count": null,
   "id": "86663cfe-12e1-46a9-847c-de28723ba488",
   "metadata": {},
   "outputs": [],
   "source": [
    "# Generate some data to plot\n",
    "\n",
    "import numpy as np\n",
    "\n",
    "np.random.seed(19680801)\n",
    "\n",
    "X = np.linspace(0.5, 3.5, 100)\n",
    "Y1 = 3+np.cos(X)\n",
    "Y2 = 1+np.cos(1+X/0.75)/2\n",
    "Y3 = np.random.uniform(Y1, Y2, len(X))\n",
    "\n",
    "ax.plot(X, Y1, c='C0', lw=2.5, label=\"Blue signal\")\n",
    "ax.plot(X, Y2, c='C1', lw=2.5, label=\"Orange signal\")\n",
    "ax.scatter(X[::3], Y3[::3], label=\"Purple dots\",\n",
    "        marker='s', facecolor='none', edgecolor='C4',\n",
    "        linewidth=2.5)\n",
    "fig"
   ]
  },
  {
   "cell_type": "markdown",
   "id": "26f61d2e-8212-4715-a9bf-c005939b1a04",
   "metadata": {
    "slideshow": {
     "slide_type": "slide"
    },
    "tags": []
   },
   "source": [
    "## Labels\n",
    "\n",
    "Now lets add a title and labels for the x-axis and y-axis."
   ]
  },
  {
   "cell_type": "code",
   "execution_count": null,
   "id": "034dc433-6202-4e28-8c90-39735460d824",
   "metadata": {},
   "outputs": [],
   "source": [
    "ax.set_title(\"Anatomy of a figure\", fontsize=20, verticalalignment='bottom')\n",
    "ax.set_xlabel(\"x Axis label\", fontsize=14)\n",
    "ax.set_ylabel(\"y Axis label\", fontsize=14)\n",
    "fig"
   ]
  },
  {
   "cell_type": "markdown",
   "id": "be8f5676-1d2a-4ca7-9918-f88cfe736915",
   "metadata": {},
   "source": [
    "## Legend\n",
    "\n",
    "Finally, we will add a `Legend`. A `Legend` displays the labels given to the plotted data."
   ]
  },
  {
   "cell_type": "code",
   "execution_count": null,
   "id": "7aa69254-e0dd-49cb-bf49-ecc656f7eae8",
   "metadata": {},
   "outputs": [],
   "source": [
    "ax.legend(loc=\"best\", fontsize=14)\n",
    "fig"
   ]
  },
  {
   "cell_type": "markdown",
   "id": "add1cc49-e0d6-40db-815d-e294483b74c3",
   "metadata": {
    "slideshow": {
     "slide_type": "slide"
    },
    "tags": []
   },
   "source": [
    "### (optional) Adding labels to each part of the plot\n",
    "\n",
    "The remaining code adds the circles and labels to each part of the plot.\n",
    "\n",
    "This is included in the example, but since we stepped through explaining each item added, it is less necessary.\n"
   ]
  },
  {
   "cell_type": "code",
   "execution_count": null,
   "id": "e4e8483f-c085-4773-96f5-1c5d57faf264",
   "metadata": {},
   "outputs": [],
   "source": [
    "# Annotate the figure\n",
    "from matplotlib.patches import Circle\n",
    "from matplotlib.patheffects import withStroke\n",
    "\n",
    "royal_blue = [0, 20/256, 82/256]\n",
    "\n",
    "def annotate(x, y, text, code):\n",
    "    # Circle marker\n",
    "    c = Circle((x, y), radius=0.15, clip_on=False, zorder=10, linewidth=2.5,\n",
    "               edgecolor=royal_blue + [0.6], facecolor='none',\n",
    "               path_effects=[withStroke(linewidth=7, foreground='white')])\n",
    "    ax.add_artist(c)\n",
    "\n",
    "    # use path_effects as a background for the texts\n",
    "    # draw the path_effects and the colored text separately so that the\n",
    "    # path_effects cannot clip other texts\n",
    "    for path_effects in [[withStroke(linewidth=7, foreground='white')], []]:\n",
    "        color = 'white' if path_effects else royal_blue\n",
    "        ax.text(x, y-0.2, text, zorder=100,\n",
    "                ha='center', va='top', weight='bold', color=color,\n",
    "                style='italic', fontfamily='monospace',\n",
    "                path_effects=path_effects)\n",
    "\n",
    "        color = 'white' if path_effects else 'black'\n",
    "        ax.text(x, y-0.33, code, zorder=100,\n",
    "                ha='center', va='top', weight='normal', color=color,\n",
    "                fontfamily='monospace', fontsize='medium',\n",
    "                path_effects=path_effects)\n",
    "\n",
    "\n",
    "annotate(3.5, -0.13, \"Minor tick label\", \"ax.xaxis.set_minor_formatter\")\n",
    "annotate(-0.03, 1.0, \"Major tick\", \"ax.yaxis.set_major_locator\")\n",
    "annotate(0.00, 3.75, \"Minor tick\", \"ax.yaxis.set_minor_locator\")\n",
    "annotate(-0.15, 3.00, \"Major tick label\", \"ax.yaxis.set_major_formatter\")\n",
    "annotate(1.68, -0.39, \"xlabel\", \"ax.set_xlabel\")\n",
    "annotate(-0.38, 1.67, \"ylabel\", \"ax.set_ylabel\")\n",
    "annotate(1.52, 4.15, \"Title\", \"ax.set_title\")\n",
    "annotate(1.75, 2.80, \"Line\", \"ax.plot\")\n",
    "annotate(2.25, 1.54, \"Markers\", \"ax.scatter\")\n",
    "annotate(3.00, 3.00, \"Grid\", \"ax.grid\")\n",
    "annotate(3.60, 3.58, \"Legend\", \"ax.legend\")\n",
    "annotate(2.5, 0.55, \"Axes\", \"fig.subplots\")\n",
    "annotate(4, 4.5, \"Figure\", \"plt.figure\")\n",
    "annotate(0.65, 0.01, \"x Axis\", \"ax.xaxis\")\n",
    "annotate(0, 0.36, \"y Axis\", \"ax.yaxis\")\n",
    "annotate(4.0, 0.7, \"Spine\", \"ax.spines\")\n",
    "\n",
    "# frame around figure\n",
    "fig.patch.set(linewidth=4, edgecolor='0.5')\n",
    "fig"
   ]
  },
  {
   "cell_type": "code",
   "execution_count": null,
   "id": "4007d5e3-2537-404e-8b55-e2966a5eab84",
   "metadata": {},
   "outputs": [],
   "source": []
  },
  {
   "cell_type": "code",
   "execution_count": null,
   "id": "5cfdbb0e-b818-4ab5-beca-f2a5aad420d2",
   "metadata": {},
   "outputs": [],
   "source": []
  }
 ],
 "metadata": {
  "kernelspec": {
   "display_name": "Python 3 (ipykernel)",
   "language": "python",
   "name": "python3"
  },
  "language_info": {
   "codemirror_mode": {
    "name": "ipython",
    "version": 3
   },
   "file_extension": ".py",
   "mimetype": "text/x-python",
   "name": "python",
   "nbconvert_exporter": "python",
   "pygments_lexer": "ipython3",
   "version": "3.11.4"
  }
 },
 "nbformat": 4,
 "nbformat_minor": 5
}
