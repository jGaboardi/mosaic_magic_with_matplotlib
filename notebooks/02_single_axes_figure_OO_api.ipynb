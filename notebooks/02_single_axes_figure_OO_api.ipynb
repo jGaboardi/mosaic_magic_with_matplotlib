{
 "cells": [
  {
   "cell_type": "code",
   "execution_count": null,
   "id": "7c92a9ff-df4c-4783-b237-1291791482fb",
   "metadata": {},
   "outputs": [],
   "source": [
    "%matplotlib widget"
   ]
  },
  {
   "cell_type": "markdown",
   "id": "b0c13a0c-0369-489f-8c37-0a1f5054c9f4",
   "metadata": {},
   "source": [
    "# Single Axis Figures"
   ]
  },
  {
   "cell_type": "markdown",
   "id": "cef472c6-75b6-4977-bfbf-f6e090c3ff93",
   "metadata": {
    "jp-MarkdownHeadingCollapsed": true
   },
   "source": [
    "## \"pyplot\" API vs \"explicit\" API\n",
    "\n",
    "There are essentially two ways to use Matplotlib:\n",
    "\n",
    "- Explicitly create Figures and Axes, and call methods on them (the\n",
    "  \"object-oriented (OO) style\").\n",
    "- Rely on pyplot to implicitly create and manage the Figures and Axes, and\n",
    "  use pyplot functions for plotting.\n",
    "\n",
    "\n",
    "The \"pyplot\" or \"implicit\" API is when you use plotting functions such as `plt.plot` or `plt.imshow` to act on the \"current working axis\" (`plt.gca()`) or \"current working figure\" (`plt.gcf()`)\n",
    "\n",
    "This makes it a reasonable choice for quick prototyping/one-off plots, particularly in interactive use, but can be harder to follow if there are many plots or many things added to a plot.\n",
    "\n",
    "It is called \"implicit\" because of the hidden state of which Axes/Figure are currently active.\n",
    "\n",
    "Instead, we offer the \"explict\" or \"Object Oriented (OO)\" API.\n",
    "This allows you to keep references to multiple Axes as their own variables, and thus have more than one \"active\" Axes(or Figures) that you can readily add to, as well as allowing you to see more easily which Axes (or Figure) is being modified.\n",
    "\n",
    "The explicit API is usually recommended for scripts, or more generally complex figures. It is called \"explicit\" because you specify which Axes/Figure you are acting on with every call.\n",
    "\n",
    "There is often a few extra lines of boilerplate to set up the Figure/Axes in the explicit API (especially if you only have one Axes in a figure), but you gain it back in readability and avoiding switching Axes.\n",
    "\n",
    "Note that even for the \"explicit\" inteface, the entry point for creating figures is still a `pyplot` method."
   ]
  },
  {
   "cell_type": "markdown",
   "id": "b8252748-af36-477f-b39b-e91f60025b86",
   "metadata": {},
   "source": [
    "## Examples with pyplot\n",
    "\n",
    "The simplest example of a plot looks something like, where the creation of Figure and Axes is done for you:"
   ]
  },
  {
   "cell_type": "code",
   "execution_count": null,
   "id": "62110e15-6c1e-4f40-b8d2-8c55b1efa721",
   "metadata": {},
   "outputs": [],
   "source": [
    "import matplotlib.pyplot as plt\n",
    "\n",
    "plt.plot([1, 2, 3, 4], [0, 0.5, 1, 0.2])\n",
    "plt.show()"
   ]
  },
  {
   "cell_type": "markdown",
   "id": "8b99996b-195b-46a9-9d8c-2b89db1f70b4",
   "metadata": {},
   "source": [
    "## The explicit (OO) API\n",
    "\n",
    "To creat the same figure using the explicit API, you can do:"
   ]
  },
  {
   "cell_type": "code",
   "execution_count": null,
   "id": "41cfc639-ad7e-4dca-ae48-06095893a574",
   "metadata": {},
   "outputs": [],
   "source": [
    "import matplotlib.pyplot as plt\n",
    "\n",
    "fig = plt.figure()\n",
    "ax = fig.subplots()\n",
    "ax.plot([1, 2, 3, 4], [0, 0.5, 1, 0.2])\n",
    "plt.show()"
   ]
  },
  {
   "cell_type": "markdown",
   "id": "10a23ea2-89e0-4b01-930f-9187d1d8969a",
   "metadata": {},
   "source": [
    "### Making a helper functions\n",
    "\n",
    "If you need to make the same plots over and over again with different data\n",
    "sets, or want to easily wrap Matplotlib methods, use the recommended\n",
    "signature function below."
   ]
  },
  {
   "cell_type": "code",
   "execution_count": null,
   "id": "b68c867b-5a62-4f29-b906-56fab529c358",
   "metadata": {
    "jupyter": {
     "outputs_hidden": false
    }
   },
   "outputs": [],
   "source": [
    "def my_plotter(ax, data1, data2, param_dict):\n",
    "    \"\"\"\n",
    "    A helper function to make a graph.\n",
    "    \"\"\"\n",
    "    out = ax.plot(data1, data2, **param_dict)\n",
    "    return out"
   ]
  },
  {
   "cell_type": "markdown",
   "id": "94a3ff3d-d91f-4722-8f11-e2ec52159a9d",
   "metadata": {},
   "source": [
    "which you would then use twice to populate two subplots:\n",
    "\n"
   ]
  },
  {
   "cell_type": "code",
   "execution_count": null,
   "id": "09b5403c-0eb4-400d-899f-42ef413df48c",
   "metadata": {
    "jupyter": {
     "outputs_hidden": false
    }
   },
   "outputs": [],
   "source": [
    "data1, data2, data3, data4 = np.random.randn(4, 100)  # make 4 random data sets\n",
    "fig, (ax1, ax2) = plt.subplots(1, 2, figsize=(5, 2.7))\n",
    "my_plotter(ax1, data1, data2, {'marker': 'x'})\n",
    "my_plotter(ax2, data3, data4, {'marker': 'o'})\n",
    "plt.show()"
   ]
  },
  {
   "cell_type": "markdown",
   "id": "05272569-4a0c-4920-a709-69d8ef50255c",
   "metadata": {},
   "source": [
    "### Resources\n",
    "- https://matplotlib.org/stable/tutorials/introductory/quick_start.html\n",
    "- https://matplotlib.org/stable/tutorials/introductory/pyplot.html\n",
    "- https://matplotlib.org/stable/users/explain/api_interfaces.html"
   ]
  }
 ],
 "metadata": {
  "kernelspec": {
   "display_name": "Python 3 (ipykernel)",
   "language": "python",
   "name": "python3"
  },
  "language_info": {
   "codemirror_mode": {
    "name": "ipython",
    "version": 3
   },
   "file_extension": ".py",
   "mimetype": "text/x-python",
   "name": "python",
   "nbconvert_exporter": "python",
   "pygments_lexer": "ipython3",
   "version": "3.11.0"
  }
 },
 "nbformat": 4,
 "nbformat_minor": 5
}
