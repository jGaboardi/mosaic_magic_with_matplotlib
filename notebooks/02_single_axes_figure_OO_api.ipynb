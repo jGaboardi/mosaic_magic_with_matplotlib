{
 "cells": [
  {
   "cell_type": "markdown",
   "id": "9c3a8833-f1e9-48b9-b011-09216d88f5bf",
   "metadata": {},
   "source": [
    "# Single Axis Figures"
   ]
  },
  {
   "cell_type": "markdown",
   "id": "cef472c6-75b6-4977-bfbf-f6e090c3ff93",
   "metadata": {},
   "source": [
    "## \"pyplot\" API vs \"explicit\" API\n",
    "\n",
    "- what we mean\n",
    "- when to use\n",
    "  - pyplot is good for quick one off plots, particularly interactive usage\n",
    "  - explicit/OO API recommended for most other usecases"
   ]
  },
  {
   "cell_type": "markdown",
   "id": "b8252748-af36-477f-b39b-e91f60025b86",
   "metadata": {},
   "source": [
    "## Examples with pyplot"
   ]
  },
  {
   "cell_type": "markdown",
   "id": "0b4664dd-ed47-441a-ba43-44f4c29da586",
   "metadata": {},
   "source": [
    "### Formatting"
   ]
  },
  {
   "cell_type": "markdown",
   "id": "f892a0e5-8968-4fb3-8787-ab30b43386fb",
   "metadata": {},
   "source": []
  },
  {
   "cell_type": "markdown",
   "id": "c58fbb5e-a5f3-4ab4-b630-b7e4b5f94f09",
   "metadata": {},
   "source": [
    "### Nonlinear scales"
   ]
  },
  {
   "cell_type": "markdown",
   "id": "1990b7c9-8942-468a-b2e3-393e272d87d6",
   "metadata": {},
   "source": [
    "### Limitations (working with multiple Axes)"
   ]
  },
  {
   "cell_type": "markdown",
   "id": "8b99996b-195b-46a9-9d8c-2b89db1f70b4",
   "metadata": {},
   "source": [
    "## The explicit (OO) API"
   ]
  },
  {
   "cell_type": "markdown",
   "id": "ab381cec-1464-4177-a7a9-81091df3a854",
   "metadata": {},
   "source": [
    "### subplots"
   ]
  },
  {
   "cell_type": "markdown",
   "id": "a9918e8c-c1ac-4ff6-bcfa-23caf2f68d3b",
   "metadata": {},
   "source": [
    "### Helper functions"
   ]
  },
  {
   "cell_type": "markdown",
   "id": "2cb9051e-a4c5-43d8-b7f0-361eea104224",
   "metadata": {},
   "source": [
    "### Working with more than one Axes at a time"
   ]
  },
  {
   "cell_type": "markdown",
   "id": "79a7d984-c0ad-4f1a-8513-53bde61cf1b7",
   "metadata": {},
   "source": []
  },
  {
   "cell_type": "markdown",
   "id": "05272569-4a0c-4920-a709-69d8ef50255c",
   "metadata": {},
   "source": [
    "### Resources\n",
    "- https://matplotlib.org/stable/tutorials/introductory/quick_start.html\n",
    "- https://matplotlib.org/stable/tutorials/introductory/pyplot.html\n",
    "- https://matplotlib.org/stable/users/explain/api_interfaces.html"
   ]
  }
 ],
 "metadata": {
  "kernelspec": {
   "display_name": "Python 3 (ipykernel)",
   "language": "python",
   "name": "python3"
  },
  "language_info": {
   "codemirror_mode": {
    "name": "ipython",
    "version": 3
   },
   "file_extension": ".py",
   "mimetype": "text/x-python",
   "name": "python",
   "nbconvert_exporter": "python",
   "pygments_lexer": "ipython3",
   "version": "3.11.4"
  }
 },
 "nbformat": 4,
 "nbformat_minor": 5
}
