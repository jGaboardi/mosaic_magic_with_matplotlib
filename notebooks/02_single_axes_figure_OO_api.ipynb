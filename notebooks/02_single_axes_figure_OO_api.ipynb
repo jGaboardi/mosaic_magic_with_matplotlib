{
 "cells": [
  {
   "cell_type": "markdown",
   "id": "05272569-4a0c-4920-a709-69d8ef50255c",
   "metadata": {},
   "source": [
    "### Resources\n",
    "- https://matplotlib.org/stable/tutorials/introductory/quick_start.html\n",
    "- https://matplotlib.org/stable/tutorials/introductory/pyplot.html\n",
    "- https://matplotlib.org/stable/users/explain/api_interfaces.html"
   ]
  },
  {
   "cell_type": "code",
   "execution_count": null,
   "id": "1ecf2e0f-6186-4986-8ebe-4c86a2d0e03b",
   "metadata": {},
   "outputs": [],
   "source": []
  }
 ],
 "metadata": {
  "kernelspec": {
   "display_name": "Python 3 (ipykernel)",
   "language": "python",
   "name": "python3"
  },
  "language_info": {
   "codemirror_mode": {
    "name": "ipython",
    "version": 3
   },
   "file_extension": ".py",
   "mimetype": "text/x-python",
   "name": "python",
   "nbconvert_exporter": "python",
   "pygments_lexer": "ipython3",
   "version": "3.11.4"
  }
 },
 "nbformat": 4,
 "nbformat_minor": 5
}
