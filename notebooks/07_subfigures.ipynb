{
 "cells": [
  {
   "cell_type": "markdown",
   "id": "5ec56e9f-4542-43e4-a958-a77381f7a697",
   "metadata": {},
   "source": [
    "### Nested Axes layouts\n",
    "\n",
    "Sometimes it is helpful to have two or more grids of Axes that\n",
    "may not need to be related to one another.  The most simple way to\n",
    "accomplish this is to use `.Figure.subfigures`.  Note that the subfigure\n",
    "layouts are independent, so the Axes spines in each subfigure are not\n",
    "necessarily aligned.  See below for a more verbose way to achieve the same\n",
    "effect with `~.gridspec.GridSpecFromSubplotSpec`.\n",
    "\n"
   ]
  },
  {
   "cell_type": "code",
   "execution_count": null,
   "id": "fd308f9f-5f60-4d70-b086-a2ac734456be",
   "metadata": {
    "jupyter": {
     "outputs_hidden": false
    }
   },
   "outputs": [],
   "source": [
    "fig = plt.figure(layout=\"constrained\")\n",
    "subfigs = fig.subfigures(1, 2, wspace=0.07, width_ratios=[1.5, 1.])\n",
    "axs0 = subfigs[0].subplots(2, 2)\n",
    "subfigs[0].set_facecolor('0.9')\n",
    "subfigs[0].suptitle('subfigs[0]\\nLeft side')\n",
    "subfigs[0].supxlabel('xlabel for subfigs[0]')\n",
    "\n",
    "axs1 = subfigs[1].subplots(3, 1)\n",
    "subfigs[1].suptitle('subfigs[1]')\n",
    "subfigs[1].supylabel('ylabel for subfigs[1]')"
   ]
  },
  {
   "cell_type": "markdown",
   "id": "faa6e516-56e3-4b4f-aa64-0328aac68b54",
   "metadata": {},
   "source": [
    "It is also possible to nest Axes using `~.pyplot.subplot_mosaic` using\n",
    "nested lists.  This method does not use subfigures, like above, so lacks\n",
    "the ability to add per-subfigure ``suptitle`` and ``supxlabel``, etc.\n",
    "Rather it is a convenience wrapper around the `~.SubplotSpec.subgridspec`\n",
    "method described below.\n",
    "\n"
   ]
  },
  {
   "cell_type": "code",
   "execution_count": null,
   "id": "ead73884-981a-4a8c-9dc4-9fdf7b0e97a0",
   "metadata": {
    "jupyter": {
     "outputs_hidden": false
    }
   },
   "outputs": [],
   "source": [
    "inner = [['innerA'],\n",
    "         ['innerB']]\n",
    "outer = [['upper left',  inner],\n",
    "          ['lower left', 'lower right']]\n",
    "\n",
    "fig, axd = plt.subplot_mosaic(outer, layout=\"constrained\")\n",
    "for k in axd:\n",
    "    annotate_axes(axd[k], f'axd[\"{k}\"]')"
   ]
  },
  {
   "cell_type": "code",
   "execution_count": null,
   "id": "28895772-ed66-4b31-909c-5361e5f2d3e6",
   "metadata": {},
   "outputs": [],
   "source": []
  },
  {
   "cell_type": "markdown",
   "id": "e366cd47-fcdd-4c3b-a715-062c8fc039e6",
   "metadata": {},
   "source": [
    "### Resources\n",
    "\n",
    "- https://matplotlib.org/stable/gallery/subplots_axes_and_figures/subfigures.html\n",
    "- https://matplotlib.org/stable/tutorials/intermediate/arranging_axes.html#nested-axes-layouts"
   ]
  }
 ],
 "metadata": {
  "kernelspec": {
   "display_name": "Python 3 (ipykernel)",
   "language": "python",
   "name": "python3"
  },
  "language_info": {
   "codemirror_mode": {
    "name": "ipython",
    "version": 3
   },
   "file_extension": ".py",
   "mimetype": "text/x-python",
   "name": "python",
   "nbconvert_exporter": "python",
   "pygments_lexer": "ipython3",
   "version": "3.11.4"
  }
 },
 "nbformat": 4,
 "nbformat_minor": 5
}
