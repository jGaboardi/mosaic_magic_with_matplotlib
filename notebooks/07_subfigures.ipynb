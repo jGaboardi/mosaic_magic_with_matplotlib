{
 "cells": [
  {
   "cell_type": "code",
   "execution_count": null,
   "id": "bd36242b-13ec-4fa8-8159-e14decca8f49",
   "metadata": {
    "jupyter": {
     "outputs_hidden": false
    }
   },
   "outputs": [],
   "source": [
    "import matplotlib.pyplot as plt\n",
    "import numpy as np\n",
    "%matplotlib widget\n",
    "\n",
    "# Helper function to put some text on an axes to help identify them\n",
    "def annotate_axes(ax, text, fontsize=18):\n",
    "    ax.text(0.5, 0.5, text, transform=ax.transAxes,\n",
    "            ha=\"center\", va=\"center\", fontsize=fontsize, color=\"darkgrey\")"
   ]
  },
  {
   "cell_type": "markdown",
   "id": "f63bb510-c852-4cea-b201-9cd3ec0400e2",
   "metadata": {},
   "source": [
    "# Subfigures\n",
    "\n",
    "One more tool that is available for laying out particularly complicated figures is `SubFigure`s. This can be used in conjunction with all of the other techniques we have already covered, but allowing a bit more flexibility to allow different portions of the figure to be on different grids and the ability to use figure labels for subsets of a figure."
   ]
  },
  {
   "cell_type": "markdown",
   "id": "a2ef349d-01ba-4fc3-b3d1-b8cf8966cc95",
   "metadata": {},
   "source": [
    "\n",
    "# Figure subfigures\n",
    "\n",
    "Sometimes it is desirable to have a figure with two different layouts in it.\n",
    "This can be achieved with nested gridspecs<,\n",
    "but having a virtual figure with its own artists is helpful, so\n",
    "Matplotlib also has \"subfigures\", accessed by calling\n",
    "`matplotlib.figure.Figure.add_subfigure` in a way that is analogous to\n",
    "`matplotlib.figure.Figure.add_subplot`, or\n",
    "`matplotlib.figure.Figure.subfigures` to make an array of subfigures.  Note\n",
    "that subfigures can also have their own child subfigures.\n"
   ]
  },
  {
   "cell_type": "code",
   "execution_count": null,
   "id": "52e6d2e9-aced-4067-9966-a5d9699ad5d6",
   "metadata": {
    "jupyter": {
     "outputs_hidden": false
    }
   },
   "outputs": [],
   "source": [
    "def example_plot(ax, fontsize=12, hide_labels=False):\n",
    "    pc = ax.pcolormesh(np.random.randn(30, 30), vmin=-2.5, vmax=2.5)\n",
    "    if not hide_labels:\n",
    "        ax.set_xlabel('x-label', fontsize=fontsize)\n",
    "        ax.set_ylabel('y-label', fontsize=fontsize)\n",
    "        ax.set_title('Title', fontsize=fontsize)\n",
    "    return pc\n",
    "\n",
    "np.random.seed(19680808)\n",
    "# gridspec inside gridspec\n",
    "fig = plt.figure(layout='constrained', figsize=(10, 4))\n",
    "subfigs = fig.subfigures(1, 2, wspace=0.07)\n",
    "\n",
    "axsLeft = subfigs[0].subplots(1, 2, sharey=True)\n",
    "subfigs[0].set_facecolor('0.75')\n",
    "for ax in axsLeft:\n",
    "    pc = example_plot(ax)\n",
    "subfigs[0].suptitle('Left plots', fontsize='x-large')\n",
    "subfigs[0].colorbar(pc, shrink=0.6, ax=axsLeft, location='bottom')\n",
    "\n",
    "axsRight = subfigs[1].subplots(3, 1, sharex=True)\n",
    "for nn, ax in enumerate(axsRight):\n",
    "    pc = example_plot(ax, hide_labels=True)\n",
    "    if nn == 2:\n",
    "        ax.set_xlabel('xlabel')\n",
    "    if nn == 1:\n",
    "        ax.set_ylabel('ylabel')\n",
    "\n",
    "subfigs[1].set_facecolor('0.85')\n",
    "subfigs[1].colorbar(pc, shrink=0.6, ax=axsRight)\n",
    "subfigs[1].suptitle('Right plots', fontsize='x-large')\n",
    "\n",
    "fig.suptitle('Figure suptitle', fontsize='xx-large')\n",
    "\n",
    "plt.show()"
   ]
  },
  {
   "cell_type": "markdown",
   "id": "dd8f26b1-1f52-49d2-b539-9deb662a80b4",
   "metadata": {},
   "source": [
    "It is possible to mix subplots and subfigures using\n",
    "`matplotlib.figure.Figure.add_subfigure`.  This requires getting\n",
    "the gridspec that the subplots are laid out on.\n",
    "\n"
   ]
  },
  {
   "cell_type": "code",
   "execution_count": null,
   "id": "5cd19e97-8d9e-4cbd-a9d6-f1c3a0115805",
   "metadata": {
    "jupyter": {
     "outputs_hidden": false
    }
   },
   "outputs": [],
   "source": [
    "fig, axs = plt.subplots(2, 3, layout='constrained', figsize=(10, 4))\n",
    "gridspec = axs[0, 0].get_subplotspec().get_gridspec()\n",
    "\n",
    "# clear the left column for the subfigure:\n",
    "for a in axs[:, 0]:\n",
    "    a.remove()\n",
    "\n",
    "# plot data in remaining axes:\n",
    "for a in axs[:, 1:].flat:\n",
    "    a.plot(np.arange(10))\n",
    "\n",
    "# make the subfigure in the empty gridspec slots:\n",
    "subfig = fig.add_subfigure(gridspec[:, 0])\n",
    "\n",
    "axsLeft = subfig.subplots(1, 2, sharey=True)\n",
    "subfig.set_facecolor('0.75')\n",
    "for ax in axsLeft:\n",
    "    pc = example_plot(ax)\n",
    "subfig.suptitle('Left plots', fontsize='x-large')\n",
    "subfig.colorbar(pc, shrink=0.6, ax=axsLeft, location='bottom')\n",
    "\n",
    "fig.suptitle('Figure suptitle', fontsize='xx-large')\n",
    "plt.show()"
   ]
  },
  {
   "cell_type": "markdown",
   "id": "55c17126-3bd4-4c09-9de9-50f50eefbcc6",
   "metadata": {},
   "source": [
    "Subfigures can have different widths and heights.  This is exactly the\n",
    "same example as the first example, but *width_ratios* has been changed:\n",
    "\n"
   ]
  },
  {
   "cell_type": "code",
   "execution_count": null,
   "id": "0d1e2f49-a9f4-4245-8590-b82441e66c58",
   "metadata": {
    "jupyter": {
     "outputs_hidden": false
    }
   },
   "outputs": [],
   "source": [
    "fig = plt.figure(layout='constrained', figsize=(10, 4))\n",
    "subfigs = fig.subfigures(1, 2, wspace=0.07, width_ratios=[2, 1])\n",
    "\n",
    "axsLeft = subfigs[0].subplots(1, 2, sharey=True)\n",
    "subfigs[0].set_facecolor('0.75')\n",
    "for ax in axsLeft:\n",
    "    pc = example_plot(ax)\n",
    "subfigs[0].suptitle('Left plots', fontsize='x-large')\n",
    "subfigs[0].colorbar(pc, shrink=0.6, ax=axsLeft, location='bottom')\n",
    "\n",
    "axsRight = subfigs[1].subplots(3, 1, sharex=True)\n",
    "for nn, ax in enumerate(axsRight):\n",
    "    pc = example_plot(ax, hide_labels=True)\n",
    "    if nn == 2:\n",
    "        ax.set_xlabel('xlabel')\n",
    "    if nn == 1:\n",
    "        ax.set_ylabel('ylabel')\n",
    "\n",
    "subfigs[1].set_facecolor('0.85')\n",
    "subfigs[1].colorbar(pc, shrink=0.6, ax=axsRight)\n",
    "subfigs[1].suptitle('Right plots', fontsize='x-large')\n",
    "\n",
    "fig.suptitle('Figure suptitle', fontsize='xx-large')\n",
    "\n",
    "plt.show()"
   ]
  },
  {
   "cell_type": "markdown",
   "id": "a426b5c0-f5ac-45f8-9469-5b5cd5e30c89",
   "metadata": {},
   "source": [
    "Subfigures can be also be nested:\n",
    "\n"
   ]
  },
  {
   "cell_type": "code",
   "execution_count": null,
   "id": "db48e85f-a9df-4fec-b51b-3498d8466a73",
   "metadata": {
    "jupyter": {
     "outputs_hidden": false
    }
   },
   "outputs": [],
   "source": [
    "fig = plt.figure(layout='constrained', figsize=(10, 8))\n",
    "\n",
    "fig.suptitle('fig')\n",
    "\n",
    "subfigs = fig.subfigures(1, 2, wspace=0.07)\n",
    "\n",
    "subfigs[0].set_facecolor('coral')\n",
    "subfigs[0].suptitle('subfigs[0]')\n",
    "\n",
    "subfigs[1].set_facecolor('coral')\n",
    "subfigs[1].suptitle('subfigs[1]')\n",
    "\n",
    "subfigsnest = subfigs[0].subfigures(2, 1, height_ratios=[1, 1.4])\n",
    "subfigsnest[0].suptitle('subfigsnest[0]')\n",
    "subfigsnest[0].set_facecolor('r')\n",
    "axsnest0 = subfigsnest[0].subplots(1, 2, sharey=True)\n",
    "for nn, ax in enumerate(axsnest0):\n",
    "    pc = example_plot(ax, hide_labels=True)\n",
    "subfigsnest[0].colorbar(pc, ax=axsnest0)\n",
    "\n",
    "subfigsnest[1].suptitle('subfigsnest[1]')\n",
    "subfigsnest[1].set_facecolor('g')\n",
    "axsnest1 = subfigsnest[1].subplots(3, 1, sharex=True)\n",
    "\n",
    "axsRight = subfigs[1].subplots(2, 2)\n",
    "\n",
    "plt.show()"
   ]
  },
  {
   "cell_type": "markdown",
   "id": "bf328a7c-4c1b-4b21-9aff-070bd9361590",
   "metadata": {},
   "source": [
    "## Nested Axes layouts\n",
    "\n",
    "Sometimes it is helpful to have two or more grids of Axes that\n",
    "may not need to be related to one another.  The most simple way to\n",
    "accomplish this is to use `Figure.subfigures`.  Note that the subfigure\n",
    "layouts are independent, so the Axes spines in each subfigure are not\n",
    "necessarily aligned."
   ]
  },
  {
   "cell_type": "code",
   "execution_count": null,
   "id": "f46f3381-f8d6-43e8-a322-5ddbe3c841fe",
   "metadata": {},
   "outputs": [],
   "source": []
  },
  {
   "cell_type": "code",
   "execution_count": null,
   "id": "fd308f9f-5f60-4d70-b086-a2ac734456be",
   "metadata": {
    "jupyter": {
     "outputs_hidden": false
    }
   },
   "outputs": [],
   "source": [
    "fig = plt.figure(layout=\"constrained\")\n",
    "subfigs = fig.subfigures(1, 2, wspace=0.07, width_ratios=[1.5, 1.])\n",
    "axs0 = subfigs[0].subplots(2, 2)\n",
    "subfigs[0].set_facecolor('0.9')\n",
    "subfigs[0].suptitle('subfigs[0]\\nLeft side')\n",
    "subfigs[0].supxlabel('xlabel for subfigs[0]')\n",
    "\n",
    "axs1 = subfigs[1].subplots(3, 1)\n",
    "subfigs[1].suptitle('subfigs[1]')\n",
    "subfigs[1].supylabel('ylabel for subfigs[1]')"
   ]
  },
  {
   "cell_type": "markdown",
   "id": "faa6e516-56e3-4b4f-aa64-0328aac68b54",
   "metadata": {},
   "source": [
    "It is also possible to nest Axes using `pyplot.subplot_mosaic` using\n",
    "nested lists.  This method does not use subfigures, like above, so lacks\n",
    "the ability to add per-subfigure ``suptitle`` and ``supxlabel``, etc.\n",
    "Rather it is a convenience wrapper around the `SubplotSpec.subgridspec`\n",
    "method described below.\n",
    "\n"
   ]
  },
  {
   "cell_type": "code",
   "execution_count": null,
   "id": "ead73884-981a-4a8c-9dc4-9fdf7b0e97a0",
   "metadata": {
    "jupyter": {
     "outputs_hidden": false
    }
   },
   "outputs": [],
   "source": [
    "inner = [['innerA'],\n",
    "         ['innerB']]\n",
    "outer = [['upper left',  inner],\n",
    "          ['lower left', 'lower right']]\n",
    "\n",
    "fig, axd = plt.subplot_mosaic(outer, layout=\"constrained\")\n",
    "for k in axd:\n",
    "    annotate_axes(axd[k], f'axd[\"{k}\"]')"
   ]
  },
  {
   "cell_type": "code",
   "execution_count": null,
   "id": "28895772-ed66-4b31-909c-5361e5f2d3e6",
   "metadata": {},
   "outputs": [],
   "source": []
  },
  {
   "cell_type": "markdown",
   "id": "e366cd47-fcdd-4c3b-a715-062c8fc039e6",
   "metadata": {},
   "source": [
    "### Resources\n",
    "\n",
    "- https://matplotlib.org/stable/gallery/subplots_axes_and_figures/subfigures.html\n",
    "- https://matplotlib.org/stable/tutorials/intermediate/arranging_axes.html#nested-axes-layouts"
   ]
  }
 ],
 "metadata": {
  "kernelspec": {
   "display_name": "Python 3 (ipykernel)",
   "language": "python",
   "name": "python3"
  },
  "language_info": {
   "codemirror_mode": {
    "name": "ipython",
    "version": 3
   },
   "file_extension": ".py",
   "mimetype": "text/x-python",
   "name": "python",
   "nbconvert_exporter": "python",
   "pygments_lexer": "ipython3",
   "version": "3.11.0"
  }
 },
 "nbformat": 4,
 "nbformat_minor": 5
}
