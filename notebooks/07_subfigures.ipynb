{
 "cells": [
  {
   "cell_type": "markdown",
   "id": "88593927-987d-48a0-9d26-6655931c5c00",
   "metadata": {},
   "source": [
    "### Resources\n",
    "\n",
    "- https://matplotlib.org/stable/gallery/subplots_axes_and_figures/subfigures.html\n",
    "- https://matplotlib.org/stable/tutorials/intermediate/arranging_axes.html#nested-axes-layouts"
   ]
  },
  {
   "cell_type": "code",
   "execution_count": null,
   "id": "28895772-ed66-4b31-909c-5361e5f2d3e6",
   "metadata": {},
   "outputs": [],
   "source": []
  }
 ],
 "metadata": {
  "kernelspec": {
   "display_name": "Python 3 (ipykernel)",
   "language": "python",
   "name": "python3"
  },
  "language_info": {
   "codemirror_mode": {
    "name": "ipython",
    "version": 3
   },
   "file_extension": ".py",
   "mimetype": "text/x-python",
   "name": "python",
   "nbconvert_exporter": "python",
   "pygments_lexer": "ipython3",
   "version": "3.11.4"
  }
 },
 "nbformat": 4,
 "nbformat_minor": 5
}
